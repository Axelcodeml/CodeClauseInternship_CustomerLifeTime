{
 "cells": [
  {
   "cell_type": "markdown",
   "id": "618aad8f",
   "metadata": {},
   "source": [
    "## Customer Life Time Value Prediction"
   ]
  },
  {
   "cell_type": "markdown",
   "id": "ab5614f6",
   "metadata": {},
   "source": [
    "**Aim:** Predict the life time value of customers for a business based on their histotical interactions. </br>\n",
    "\n",
    "**Description:** Apply regression techniques to estimate the future value that a customer will bring to the business </br>\n",
    "\n",
    "**Technologies:** Python, Pandas, Scikit-Learn, stasmodels</br>\n",
    "\n",
    "**Statistics Techniques:** Regression modeling for predicting customer lifetime value"
   ]
  },
  {
   "cell_type": "markdown",
   "id": "96729700",
   "metadata": {},
   "source": [
    "### Online Retail - dataset\n",
    "\n",
    "About this file\n",
    "\n",
    "Attribute Information:\n",
    "\n",
    "**InvoiceNo:** Invoice number. Nominal. A 6-digit integral number uniquely assigned to each transaction. If this code starts with the letter 'c', it indicates a cancellation. </br>\n",
    "**StockCode:** Product (item) code. Nominal. A 5-digit integral number uniquely assigned to each distinct product. </br>\n",
    "**Description:** Product (item) name. Nominal.</br>\n",
    "**Quantity:** The quantities of each product (item) per transaction. Numeric.</br>\n",
    "**InvoiceDate:** Invice date and time. Numeric. The day and time when a transaction was generated.</br>\n",
    "**UnitPrice:** Unit price. Numeric. Product price per unit in sterling (Â£).</br>\n",
    "**CustomerID:** Customer number. Nominal. A 5-digit integral number uniquely assigned to each customer.</br>\n",
    "**Country:** Country name. Nominal. The name of the country where a customer resides."
   ]
  },
  {
   "cell_type": "code",
   "execution_count": 154,
   "id": "1f3cbbce",
   "metadata": {},
   "outputs": [],
   "source": [
    "#libraries\n",
    "\n",
    "import pandas as pd\n",
    "import matplotlib.pyplot as plt\n",
    "import seaborn as sns\n",
    "import datetime as dt\n",
    "import numpy as np\n",
    "\n",
    "# statistics models\n",
    "import statsmodels.api as sm"
   ]
  },
  {
   "cell_type": "code",
   "execution_count": 155,
   "id": "763d5a8c",
   "metadata": {},
   "outputs": [],
   "source": [
    "import warnings\n",
    "warnings.filterwarnings(\"ignore\")"
   ]
  },
  {
   "cell_type": "code",
   "execution_count": 156,
   "id": "0f8bb500",
   "metadata": {},
   "outputs": [],
   "source": [
    "df = pd.read_excel(\"Online_Retail.xlsx\", sheet_name=\"Online Retail\")\n",
    "#We can use Online_Retail_II"
   ]
  },
  {
   "cell_type": "code",
   "execution_count": 157,
   "id": "70b36284",
   "metadata": {},
   "outputs": [],
   "source": [
    "aux=df"
   ]
  },
  {
   "cell_type": "code",
   "execution_count": 158,
   "id": "d3fbc49f",
   "metadata": {},
   "outputs": [
    {
     "data": {
      "text/html": [
       "<div>\n",
       "<style scoped>\n",
       "    .dataframe tbody tr th:only-of-type {\n",
       "        vertical-align: middle;\n",
       "    }\n",
       "\n",
       "    .dataframe tbody tr th {\n",
       "        vertical-align: top;\n",
       "    }\n",
       "\n",
       "    .dataframe thead th {\n",
       "        text-align: right;\n",
       "    }\n",
       "</style>\n",
       "<table border=\"1\" class=\"dataframe\">\n",
       "  <thead>\n",
       "    <tr style=\"text-align: right;\">\n",
       "      <th></th>\n",
       "      <th>InvoiceNo</th>\n",
       "      <th>StockCode</th>\n",
       "      <th>Description</th>\n",
       "      <th>Quantity</th>\n",
       "      <th>InvoiceDate</th>\n",
       "      <th>UnitPrice</th>\n",
       "      <th>CustomerID</th>\n",
       "      <th>Country</th>\n",
       "    </tr>\n",
       "  </thead>\n",
       "  <tbody>\n",
       "    <tr>\n",
       "      <th>0</th>\n",
       "      <td>536365</td>\n",
       "      <td>85123A</td>\n",
       "      <td>WHITE HANGING HEART T-LIGHT HOLDER</td>\n",
       "      <td>6</td>\n",
       "      <td>2010-12-01 08:26:00</td>\n",
       "      <td>2.55</td>\n",
       "      <td>17850.0</td>\n",
       "      <td>United Kingdom</td>\n",
       "    </tr>\n",
       "    <tr>\n",
       "      <th>1</th>\n",
       "      <td>536365</td>\n",
       "      <td>71053</td>\n",
       "      <td>WHITE METAL LANTERN</td>\n",
       "      <td>6</td>\n",
       "      <td>2010-12-01 08:26:00</td>\n",
       "      <td>3.39</td>\n",
       "      <td>17850.0</td>\n",
       "      <td>United Kingdom</td>\n",
       "    </tr>\n",
       "    <tr>\n",
       "      <th>2</th>\n",
       "      <td>536365</td>\n",
       "      <td>84406B</td>\n",
       "      <td>CREAM CUPID HEARTS COAT HANGER</td>\n",
       "      <td>8</td>\n",
       "      <td>2010-12-01 08:26:00</td>\n",
       "      <td>2.75</td>\n",
       "      <td>17850.0</td>\n",
       "      <td>United Kingdom</td>\n",
       "    </tr>\n",
       "    <tr>\n",
       "      <th>3</th>\n",
       "      <td>536365</td>\n",
       "      <td>84029G</td>\n",
       "      <td>KNITTED UNION FLAG HOT WATER BOTTLE</td>\n",
       "      <td>6</td>\n",
       "      <td>2010-12-01 08:26:00</td>\n",
       "      <td>3.39</td>\n",
       "      <td>17850.0</td>\n",
       "      <td>United Kingdom</td>\n",
       "    </tr>\n",
       "  </tbody>\n",
       "</table>\n",
       "</div>"
      ],
      "text/plain": [
       "  InvoiceNo StockCode                          Description  Quantity  \\\n",
       "0    536365    85123A   WHITE HANGING HEART T-LIGHT HOLDER         6   \n",
       "1    536365     71053                  WHITE METAL LANTERN         6   \n",
       "2    536365    84406B       CREAM CUPID HEARTS COAT HANGER         8   \n",
       "3    536365    84029G  KNITTED UNION FLAG HOT WATER BOTTLE         6   \n",
       "\n",
       "          InvoiceDate  UnitPrice  CustomerID         Country  \n",
       "0 2010-12-01 08:26:00       2.55     17850.0  United Kingdom  \n",
       "1 2010-12-01 08:26:00       3.39     17850.0  United Kingdom  \n",
       "2 2010-12-01 08:26:00       2.75     17850.0  United Kingdom  \n",
       "3 2010-12-01 08:26:00       3.39     17850.0  United Kingdom  "
      ]
     },
     "execution_count": 158,
     "metadata": {},
     "output_type": "execute_result"
    }
   ],
   "source": [
    "df.head(4)"
   ]
  },
  {
   "cell_type": "code",
   "execution_count": 159,
   "id": "5463f6ef",
   "metadata": {
    "scrolled": true
   },
   "outputs": [
    {
     "name": "stdout",
     "output_type": "stream",
     "text": [
      "<class 'pandas.core.frame.DataFrame'>\n",
      "RangeIndex: 541909 entries, 0 to 541908\n",
      "Data columns (total 8 columns):\n",
      " #   Column       Non-Null Count   Dtype         \n",
      "---  ------       --------------   -----         \n",
      " 0   InvoiceNo    541909 non-null  object        \n",
      " 1   StockCode    541909 non-null  object        \n",
      " 2   Description  540455 non-null  object        \n",
      " 3   Quantity     541909 non-null  int64         \n",
      " 4   InvoiceDate  541909 non-null  datetime64[ns]\n",
      " 5   UnitPrice    541909 non-null  float64       \n",
      " 6   CustomerID   406829 non-null  float64       \n",
      " 7   Country      541909 non-null  object        \n",
      "dtypes: datetime64[ns](1), float64(2), int64(1), object(4)\n",
      "memory usage: 33.1+ MB\n"
     ]
    }
   ],
   "source": [
    "df.info()"
   ]
  },
  {
   "cell_type": "code",
   "execution_count": 160,
   "id": "c0b365b3",
   "metadata": {},
   "outputs": [],
   "source": [
    "#df['Invoice'] = pd.Categorical(df['Invoice'])\n",
    "#df['StockCode'] = pd.Categorical(df['StockCode'])\n",
    "#df['Description'] = pd.Categorical(df['Description'])\n",
    "#df['Country'] = pd.Categorical(df['Country'])"
   ]
  },
  {
   "cell_type": "markdown",
   "id": "14f13e0a",
   "metadata": {},
   "source": [
    "**Observations:**\n",
    "\n",
    "We see that there are null values in some columns, and we need to delete them"
   ]
  },
  {
   "cell_type": "code",
   "execution_count": 161,
   "id": "dc4e7e10",
   "metadata": {},
   "outputs": [
    {
     "data": {
      "text/html": [
       "<div>\n",
       "<style scoped>\n",
       "    .dataframe tbody tr th:only-of-type {\n",
       "        vertical-align: middle;\n",
       "    }\n",
       "\n",
       "    .dataframe tbody tr th {\n",
       "        vertical-align: top;\n",
       "    }\n",
       "\n",
       "    .dataframe thead th {\n",
       "        text-align: right;\n",
       "    }\n",
       "</style>\n",
       "<table border=\"1\" class=\"dataframe\">\n",
       "  <thead>\n",
       "    <tr style=\"text-align: right;\">\n",
       "      <th></th>\n",
       "      <th>Quantity</th>\n",
       "      <th>UnitPrice</th>\n",
       "      <th>CustomerID</th>\n",
       "    </tr>\n",
       "  </thead>\n",
       "  <tbody>\n",
       "    <tr>\n",
       "      <th>count</th>\n",
       "      <td>541909.000000</td>\n",
       "      <td>541909.000000</td>\n",
       "      <td>406829.000000</td>\n",
       "    </tr>\n",
       "    <tr>\n",
       "      <th>mean</th>\n",
       "      <td>9.552250</td>\n",
       "      <td>4.611114</td>\n",
       "      <td>15287.690570</td>\n",
       "    </tr>\n",
       "    <tr>\n",
       "      <th>std</th>\n",
       "      <td>218.081158</td>\n",
       "      <td>96.759853</td>\n",
       "      <td>1713.600303</td>\n",
       "    </tr>\n",
       "    <tr>\n",
       "      <th>min</th>\n",
       "      <td>-80995.000000</td>\n",
       "      <td>-11062.060000</td>\n",
       "      <td>12346.000000</td>\n",
       "    </tr>\n",
       "    <tr>\n",
       "      <th>25%</th>\n",
       "      <td>1.000000</td>\n",
       "      <td>1.250000</td>\n",
       "      <td>13953.000000</td>\n",
       "    </tr>\n",
       "    <tr>\n",
       "      <th>50%</th>\n",
       "      <td>3.000000</td>\n",
       "      <td>2.080000</td>\n",
       "      <td>15152.000000</td>\n",
       "    </tr>\n",
       "    <tr>\n",
       "      <th>75%</th>\n",
       "      <td>10.000000</td>\n",
       "      <td>4.130000</td>\n",
       "      <td>16791.000000</td>\n",
       "    </tr>\n",
       "    <tr>\n",
       "      <th>max</th>\n",
       "      <td>80995.000000</td>\n",
       "      <td>38970.000000</td>\n",
       "      <td>18287.000000</td>\n",
       "    </tr>\n",
       "  </tbody>\n",
       "</table>\n",
       "</div>"
      ],
      "text/plain": [
       "            Quantity      UnitPrice     CustomerID\n",
       "count  541909.000000  541909.000000  406829.000000\n",
       "mean        9.552250       4.611114   15287.690570\n",
       "std       218.081158      96.759853    1713.600303\n",
       "min    -80995.000000  -11062.060000   12346.000000\n",
       "25%         1.000000       1.250000   13953.000000\n",
       "50%         3.000000       2.080000   15152.000000\n",
       "75%        10.000000       4.130000   16791.000000\n",
       "max     80995.000000   38970.000000   18287.000000"
      ]
     },
     "execution_count": 161,
     "metadata": {},
     "output_type": "execute_result"
    }
   ],
   "source": [
    "df.describe()"
   ]
  },
  {
   "cell_type": "markdown",
   "id": "f9265557",
   "metadata": {},
   "source": [
    "**Observations:**\n",
    "* Both columns has negative values like are shown in minimum values, so we need to delete them.\n",
    "* The first 50% of the people buy less than 3 items, and pay until 4.2\n",
    "* Almost the 75th percentile of people buy until 10 items, and pay until 4.2\n",
    "* We need to select or convert the negative values in positive"
   ]
  },
  {
   "cell_type": "markdown",
   "id": "c673a9ab",
   "metadata": {},
   "source": [
    "## 1. Pre-processing of data"
   ]
  },
  {
   "cell_type": "markdown",
   "id": "715f32c4",
   "metadata": {},
   "source": [
    "First we're going to search letter C at the begin of each value in 'Invoice' column."
   ]
  },
  {
   "cell_type": "code",
   "execution_count": 162,
   "id": "f637095a",
   "metadata": {},
   "outputs": [],
   "source": [
    "df['InvoiceNo'] = df['InvoiceNo'].astype('category')"
   ]
  },
  {
   "cell_type": "code",
   "execution_count": 163,
   "id": "1165c9db",
   "metadata": {},
   "outputs": [
    {
     "name": "stdout",
     "output_type": "stream",
     "text": [
      "There are no codes starting with c\n"
     ]
    }
   ],
   "source": [
    "x=[]\n",
    "for dat in df['InvoiceNo']:\n",
    "    x.append(str(dat))\n",
    "    \n",
    "df['InvoiceNo'] = x   \n",
    "\n",
    "cont_code_with_c=0\n",
    "for dat in df['InvoiceNo']:\n",
    "    if dat.startswith('c'):\n",
    "        cont_code_with_c+=1\n",
    "\n",
    "if cont_code_with_c > 0:\n",
    "    print(\"there are codes: \", cont_code_with_c)\n",
    "else:\n",
    "    print(\"There are no codes starting with c\")"
   ]
  },
  {
   "cell_type": "code",
   "execution_count": 164,
   "id": "a18d3bed",
   "metadata": {},
   "outputs": [],
   "source": [
    "df.isnull().sum()\n",
    "df.isna().sum()\n",
    "\n",
    "df['Description'].fillna(value='No description', axis=0, inplace=True)"
   ]
  },
  {
   "cell_type": "markdown",
   "id": "fbe2bde6",
   "metadata": {},
   "source": [
    "We have filled the null values in Description with 'No description'.\n",
    "\n",
    "Now we're going drop out all the last missing values in 'Customer ID'"
   ]
  },
  {
   "cell_type": "code",
   "execution_count": 165,
   "id": "65680fd1",
   "metadata": {},
   "outputs": [
    {
     "data": {
      "text/plain": [
       "InvoiceNo      0\n",
       "StockCode      0\n",
       "Description    0\n",
       "Quantity       0\n",
       "InvoiceDate    0\n",
       "UnitPrice      0\n",
       "CustomerID     0\n",
       "Country        0\n",
       "dtype: int64"
      ]
     },
     "execution_count": 165,
     "metadata": {},
     "output_type": "execute_result"
    }
   ],
   "source": [
    "df.dropna(axis=0,inplace=True)\n",
    "df.isnull().sum()"
   ]
  },
  {
   "cell_type": "code",
   "execution_count": 166,
   "id": "47665563",
   "metadata": {},
   "outputs": [
    {
     "data": {
      "text/plain": [
       "InvoiceNo      0\n",
       "StockCode      0\n",
       "Description    0\n",
       "Quantity       0\n",
       "InvoiceDate    0\n",
       "UnitPrice      0\n",
       "CustomerID     0\n",
       "Country        0\n",
       "dtype: int64"
      ]
     },
     "execution_count": 166,
     "metadata": {},
     "output_type": "execute_result"
    }
   ],
   "source": [
    "df.isna().sum()"
   ]
  },
  {
   "cell_type": "code",
   "execution_count": 167,
   "id": "9a035eb6",
   "metadata": {
    "scrolled": true
   },
   "outputs": [
    {
     "data": {
      "text/plain": [
       "8905"
      ]
     },
     "execution_count": 167,
     "metadata": {},
     "output_type": "execute_result"
    }
   ],
   "source": [
    "df['CustomerID'] = df['CustomerID'].astype('int') \n",
    "len(df[df['Quantity']<0]) #how many negative values "
   ]
  },
  {
   "cell_type": "code",
   "execution_count": 168,
   "id": "6eac99b3",
   "metadata": {},
   "outputs": [],
   "source": [
    "df['Quantity'] = np.abs(df['Quantity'])"
   ]
  },
  {
   "cell_type": "code",
   "execution_count": 169,
   "id": "6849dac9",
   "metadata": {},
   "outputs": [
    {
     "name": "stdout",
     "output_type": "stream",
     "text": [
      "<class 'pandas.core.frame.DataFrame'>\n",
      "Int64Index: 406829 entries, 0 to 541908\n",
      "Data columns (total 8 columns):\n",
      " #   Column       Non-Null Count   Dtype         \n",
      "---  ------       --------------   -----         \n",
      " 0   InvoiceNo    406829 non-null  object        \n",
      " 1   StockCode    406829 non-null  object        \n",
      " 2   Description  406829 non-null  object        \n",
      " 3   Quantity     406829 non-null  int64         \n",
      " 4   InvoiceDate  406829 non-null  datetime64[ns]\n",
      " 5   UnitPrice    406829 non-null  float64       \n",
      " 6   CustomerID   406829 non-null  int32         \n",
      " 7   Country      406829 non-null  object        \n",
      "dtypes: datetime64[ns](1), float64(1), int32(1), int64(1), object(4)\n",
      "memory usage: 26.4+ MB\n"
     ]
    }
   ],
   "source": [
    "df.info()"
   ]
  },
  {
   "cell_type": "code",
   "execution_count": 170,
   "id": "61f31566",
   "metadata": {},
   "outputs": [
    {
     "data": {
      "text/html": [
       "<div>\n",
       "<style scoped>\n",
       "    .dataframe tbody tr th:only-of-type {\n",
       "        vertical-align: middle;\n",
       "    }\n",
       "\n",
       "    .dataframe tbody tr th {\n",
       "        vertical-align: top;\n",
       "    }\n",
       "\n",
       "    .dataframe thead th {\n",
       "        text-align: right;\n",
       "    }\n",
       "</style>\n",
       "<table border=\"1\" class=\"dataframe\">\n",
       "  <thead>\n",
       "    <tr style=\"text-align: right;\">\n",
       "      <th></th>\n",
       "      <th>Quantity</th>\n",
       "      <th>UnitPrice</th>\n",
       "      <th>CustomerID</th>\n",
       "    </tr>\n",
       "  </thead>\n",
       "  <tbody>\n",
       "    <tr>\n",
       "      <th>count</th>\n",
       "      <td>406829.000000</td>\n",
       "      <td>406829.000000</td>\n",
       "      <td>406829.000000</td>\n",
       "    </tr>\n",
       "    <tr>\n",
       "      <th>mean</th>\n",
       "      <td>13.412279</td>\n",
       "      <td>3.460471</td>\n",
       "      <td>15287.690570</td>\n",
       "    </tr>\n",
       "    <tr>\n",
       "      <th>std</th>\n",
       "      <td>248.624170</td>\n",
       "      <td>69.315162</td>\n",
       "      <td>1713.600303</td>\n",
       "    </tr>\n",
       "    <tr>\n",
       "      <th>min</th>\n",
       "      <td>1.000000</td>\n",
       "      <td>0.000000</td>\n",
       "      <td>12346.000000</td>\n",
       "    </tr>\n",
       "    <tr>\n",
       "      <th>25%</th>\n",
       "      <td>2.000000</td>\n",
       "      <td>1.250000</td>\n",
       "      <td>13953.000000</td>\n",
       "    </tr>\n",
       "    <tr>\n",
       "      <th>50%</th>\n",
       "      <td>5.000000</td>\n",
       "      <td>1.950000</td>\n",
       "      <td>15152.000000</td>\n",
       "    </tr>\n",
       "    <tr>\n",
       "      <th>75%</th>\n",
       "      <td>12.000000</td>\n",
       "      <td>3.750000</td>\n",
       "      <td>16791.000000</td>\n",
       "    </tr>\n",
       "    <tr>\n",
       "      <th>max</th>\n",
       "      <td>80995.000000</td>\n",
       "      <td>38970.000000</td>\n",
       "      <td>18287.000000</td>\n",
       "    </tr>\n",
       "  </tbody>\n",
       "</table>\n",
       "</div>"
      ],
      "text/plain": [
       "            Quantity      UnitPrice     CustomerID\n",
       "count  406829.000000  406829.000000  406829.000000\n",
       "mean       13.412279       3.460471   15287.690570\n",
       "std       248.624170      69.315162    1713.600303\n",
       "min         1.000000       0.000000   12346.000000\n",
       "25%         2.000000       1.250000   13953.000000\n",
       "50%         5.000000       1.950000   15152.000000\n",
       "75%        12.000000       3.750000   16791.000000\n",
       "max     80995.000000   38970.000000   18287.000000"
      ]
     },
     "execution_count": 170,
     "metadata": {},
     "output_type": "execute_result"
    }
   ],
   "source": [
    "df.describe()"
   ]
  },
  {
   "cell_type": "markdown",
   "id": "12d56ef7",
   "metadata": {},
   "source": [
    "**Observations:**\n",
    "\n",
    "* We have cleaned the missing values now we're gonna explore the data\n",
    "* We will working with 417534 values.\n",
    "* We have negatives quantities and we have converted them into posive values."
   ]
  },
  {
   "cell_type": "markdown",
   "id": "a9a10198",
   "metadata": {},
   "source": [
    "## 2. Exploratory Data Analysis"
   ]
  },
  {
   "cell_type": "code",
   "execution_count": 171,
   "id": "cdbd8d73",
   "metadata": {},
   "outputs": [
    {
     "data": {
      "text/plain": [
       "United Kingdom    361878\n",
       "Germany             9495\n",
       "France              8491\n",
       "EIRE                7485\n",
       "Spain               2533\n",
       "Name: Country, dtype: int64"
      ]
     },
     "execution_count": 171,
     "metadata": {},
     "output_type": "execute_result"
    }
   ],
   "source": [
    "df['Country'].value_counts()[0:5]"
   ]
  },
  {
   "cell_type": "code",
   "execution_count": 172,
   "id": "ee3c5b09",
   "metadata": {},
   "outputs": [
    {
     "data": {
      "text/plain": [
       "['United Kingdom', 'Germany', 'France', 'EIRE', 'Spain']"
      ]
     },
     "execution_count": 172,
     "metadata": {},
     "output_type": "execute_result"
    }
   ],
   "source": [
    "list_main_countries = df['Country'].value_counts()[0:5].index.tolist()\n",
    "list_main_countries"
   ]
  },
  {
   "cell_type": "code",
   "execution_count": 173,
   "id": "3a86a840",
   "metadata": {},
   "outputs": [],
   "source": [
    "df_main=[]"
   ]
  },
  {
   "cell_type": "code",
   "execution_count": 174,
   "id": "ed780ec7",
   "metadata": {},
   "outputs": [],
   "source": [
    "df_main = df[(df['Country']=='United Kingdom')\n",
    "          | (df['Country']=='EIRE')\n",
    "          | (df['Country']=='Germany') \n",
    "        | (df['Country']=='France') \n",
    "       | (df['Country']=='Netherlands') ]"
   ]
  },
  {
   "cell_type": "markdown",
   "id": "a4a1dbeb",
   "metadata": {},
   "source": [
    "We can see the people from aroun the world and the UK has the highest rate of buyers"
   ]
  },
  {
   "cell_type": "code",
   "execution_count": 175,
   "id": "24bca658",
   "metadata": {},
   "outputs": [],
   "source": [
    "#definying a plot\n",
    "def fine_barplot(dataframe, x_label, perc=False, n=None):\n",
    "    \"\"\"\n",
    "    Barplot with percentage option\n",
    "    dataframe: df input \n",
    "    x_label: the features in datataframe\n",
    "    perce: do you want percentage option?\n",
    "    n: the size in x\n",
    "    \"\"\"\n",
    "    \n",
    "    total = len(dataframe[x_label]) # length of the column\n",
    "    count = dataframe[x_label].nunique() #count of value uniques\n",
    "    \n",
    "    #1. Defining the size of the plot\n",
    "    if n is None:\n",
    "        plt.figure(figsize=(count + 1, 5))\n",
    "    else:\n",
    "        plt.figure(figsize=(n+1, 5))\n",
    "    \n",
    "    #2. creating the plot with COUNTPLOT of seaborn and saving it in ax variable\n",
    "    ax = sns.countplot(\n",
    "        data=dataframe,\n",
    "        x=x_label,\n",
    "        palette=\"Paired\"\n",
    "    )\n",
    "    \n",
    "    #3. Defining the percentage option, getting percentage in \"label\"\n",
    "    for p in ax.patches:\n",
    "        if perc == True:\n",
    "            label = \"{:.1f}%\".format(\n",
    "                100 * p.get_height()/ total\n",
    "            ) # setting the percentage of each class of the categor\n",
    "        else: #Show only the total\n",
    "            label = p.get_height()\n",
    "        \n",
    "        x = p.get_x() + p.get_width() / 2  # width of the bar\n",
    "        y = p.get_height()  # height of the bar\n",
    "        \n",
    "        #here we write what we got in \"label\"\n",
    "        ax.annotate(\n",
    "            label,\n",
    "            (x,y),\n",
    "            ha=\"center\",\n",
    "            va=\"center\",\n",
    "            size=12,\n",
    "            xytext=(0,5),\n",
    "            textcoords=\"offset points\"\n",
    "        )\n",
    "    plt.show()"
   ]
  },
  {
   "cell_type": "code",
   "execution_count": 176,
   "id": "9ebab662",
   "metadata": {},
   "outputs": [
    {
     "data": {
      "image/png": "[encoded data removed]",
      "text/plain": [
       "<Figure size 792x360 with 1 Axes>"
      ]
     },
     "metadata": {
      "needs_background": "light"
     },
     "output_type": "display_data"
    }
   ],
   "source": [
    "fine_barplot(df_main, 'Country', perc=True, n=10)"
   ]
  },
  {
   "cell_type": "markdown",
   "id": "42dae717",
   "metadata": {},
   "source": [
    "We see that UK has the 93.7% of the buyers, so we will analyze based only in UK."
   ]
  },
  {
   "cell_type": "markdown",
   "id": "adff4d9a",
   "metadata": {},
   "source": [
    "#### 2.1 Filtering UK"
   ]
  },
  {
   "cell_type": "code",
   "execution_count": 177,
   "id": "6d0e3338",
   "metadata": {},
   "outputs": [],
   "source": [
    "df_uk = df[df['Country']=='United Kingdom']"
   ]
  },
  {
   "cell_type": "code",
   "execution_count": 178,
   "id": "d57a9c9d",
   "metadata": {},
   "outputs": [
    {
     "data": {
      "text/plain": [
       "(361878, 8)"
      ]
     },
     "execution_count": 178,
     "metadata": {},
     "output_type": "execute_result"
    }
   ],
   "source": [
    "df_uk.shape"
   ]
  },
  {
   "cell_type": "code",
   "execution_count": 179,
   "id": "0337afc9",
   "metadata": {},
   "outputs": [
    {
     "name": "stdout",
     "output_type": "stream",
     "text": [
      "['InvoiceNo', 'StockCode', 'Description', 'Quantity', 'InvoiceDate', 'UnitPrice', 'CustomerID', 'Country']\n"
     ]
    }
   ],
   "source": [
    "print(df_uk.columns.tolist())"
   ]
  },
  {
   "cell_type": "markdown",
   "id": "99d7c3c1",
   "metadata": {},
   "source": [
    "In this case we're going to select the main columns to make the analysis: \n",
    "* Customer ID, \n",
    "* InvoiceDate  \n",
    "* Invoice: Number of Invoice, \n",
    "* Quantity, \n",
    "* Price: Unit price"
   ]
  },
  {
   "cell_type": "code",
   "execution_count": 180,
   "id": "e9deedc7",
   "metadata": {},
   "outputs": [],
   "source": [
    "df_uk.rename(columns = {'InvoiceNo':'Invoice'},inplace=True)\n",
    "df_uk.rename(columns = {'UnitPrice':'Price'},inplace=True)\n",
    "df_uk.rename(columns = {'CustomerID':'Customer ID'},inplace=True)"
   ]
  },
  {
   "cell_type": "code",
   "execution_count": 181,
   "id": "2e654635",
   "metadata": {},
   "outputs": [],
   "source": [
    "main_columns=['Customer ID', 'InvoiceDate', 'Invoice', 'Quantity', 'Price']\n",
    "df_uk = df_uk[main_columns]"
   ]
  },
  {
   "cell_type": "code",
   "execution_count": 182,
   "id": "2976fa24",
   "metadata": {},
   "outputs": [
    {
     "data": {
      "text/html": [
       "<div>\n",
       "<style scoped>\n",
       "    .dataframe tbody tr th:only-of-type {\n",
       "        vertical-align: middle;\n",
       "    }\n",
       "\n",
       "    .dataframe tbody tr th {\n",
       "        vertical-align: top;\n",
       "    }\n",
       "\n",
       "    .dataframe thead th {\n",
       "        text-align: right;\n",
       "    }\n",
       "</style>\n",
       "<table border=\"1\" class=\"dataframe\">\n",
       "  <thead>\n",
       "    <tr style=\"text-align: right;\">\n",
       "      <th></th>\n",
       "      <th>Customer ID</th>\n",
       "      <th>InvoiceDate</th>\n",
       "      <th>Invoice</th>\n",
       "      <th>Quantity</th>\n",
       "      <th>Price</th>\n",
       "    </tr>\n",
       "  </thead>\n",
       "  <tbody>\n",
       "    <tr>\n",
       "      <th>0</th>\n",
       "      <td>17850</td>\n",
       "      <td>2010-12-01 08:26:00</td>\n",
       "      <td>536365</td>\n",
       "      <td>6</td>\n",
       "      <td>2.55</td>\n",
       "    </tr>\n",
       "    <tr>\n",
       "      <th>1</th>\n",
       "      <td>17850</td>\n",
       "      <td>2010-12-01 08:26:00</td>\n",
       "      <td>536365</td>\n",
       "      <td>6</td>\n",
       "      <td>3.39</td>\n",
       "    </tr>\n",
       "    <tr>\n",
       "      <th>2</th>\n",
       "      <td>17850</td>\n",
       "      <td>2010-12-01 08:26:00</td>\n",
       "      <td>536365</td>\n",
       "      <td>8</td>\n",
       "      <td>2.75</td>\n",
       "    </tr>\n",
       "  </tbody>\n",
       "</table>\n",
       "</div>"
      ],
      "text/plain": [
       "   Customer ID         InvoiceDate Invoice  Quantity  Price\n",
       "0        17850 2010-12-01 08:26:00  536365         6   2.55\n",
       "1        17850 2010-12-01 08:26:00  536365         6   3.39\n",
       "2        17850 2010-12-01 08:26:00  536365         8   2.75"
      ]
     },
     "execution_count": 182,
     "metadata": {},
     "output_type": "execute_result"
    }
   ],
   "source": [
    "df_uk.head(3)"
   ]
  },
  {
   "cell_type": "markdown",
   "id": "fcd68b5d",
   "metadata": {},
   "source": [
    "**Total Purchase**"
   ]
  },
  {
   "cell_type": "code",
   "execution_count": 198,
   "id": "8db54978",
   "metadata": {},
   "outputs": [],
   "source": [
    "df_uk['TotalPurchase'] = df_uk['Quantity']*df_uk['Price']"
   ]
  },
  {
   "cell_type": "code",
   "execution_count": 199,
   "id": "32c0799f",
   "metadata": {},
   "outputs": [],
   "source": [
    "df_uk.drop(axis=1,columns=['Price'],inplace=True)"
   ]
  },
  {
   "cell_type": "code",
   "execution_count": 200,
   "id": "a2895fc9",
   "metadata": {},
   "outputs": [
    {
     "data": {
      "text/html": [
       "<div>\n",
       "<style scoped>\n",
       "    .dataframe tbody tr th:only-of-type {\n",
       "        vertical-align: middle;\n",
       "    }\n",
       "\n",
       "    .dataframe tbody tr th {\n",
       "        vertical-align: top;\n",
       "    }\n",
       "\n",
       "    .dataframe thead th {\n",
       "        text-align: right;\n",
       "    }\n",
       "</style>\n",
       "<table border=\"1\" class=\"dataframe\">\n",
       "  <thead>\n",
       "    <tr style=\"text-align: right;\">\n",
       "      <th></th>\n",
       "      <th>Customer ID</th>\n",
       "      <th>InvoiceDate</th>\n",
       "      <th>Invoice</th>\n",
       "      <th>Quantity</th>\n",
       "      <th>TotalPurchase</th>\n",
       "    </tr>\n",
       "  </thead>\n",
       "  <tbody>\n",
       "    <tr>\n",
       "      <th>0</th>\n",
       "      <td>17850</td>\n",
       "      <td>2010-12-01 08:26:00</td>\n",
       "      <td>536365</td>\n",
       "      <td>6</td>\n",
       "      <td>15.30</td>\n",
       "    </tr>\n",
       "    <tr>\n",
       "      <th>1</th>\n",
       "      <td>17850</td>\n",
       "      <td>2010-12-01 08:26:00</td>\n",
       "      <td>536365</td>\n",
       "      <td>6</td>\n",
       "      <td>20.34</td>\n",
       "    </tr>\n",
       "  </tbody>\n",
       "</table>\n",
       "</div>"
      ],
      "text/plain": [
       "   Customer ID         InvoiceDate Invoice  Quantity  TotalPurchase\n",
       "0        17850 2010-12-01 08:26:00  536365         6          15.30\n",
       "1        17850 2010-12-01 08:26:00  536365         6          20.34"
      ]
     },
     "execution_count": 200,
     "metadata": {},
     "output_type": "execute_result"
    }
   ],
   "source": [
    "df_uk.head(2)"
   ]
  },
  {
   "cell_type": "markdown",
   "id": "6c42be56",
   "metadata": {},
   "source": [
    "## 2.2 Calculating RFM: Recency, Frequency and Monetary\n",
    "\n",
    "So we will group and aggregate based in each customer by using 'Customer ID'"
   ]
  },
  {
   "cell_type": "code",
   "execution_count": 207,
   "id": "da71fa11",
   "metadata": {},
   "outputs": [
    {
     "data": {
      "text/html": [
       "<div>\n",
       "<style scoped>\n",
       "    .dataframe tbody tr th:only-of-type {\n",
       "        vertical-align: middle;\n",
       "    }\n",
       "\n",
       "    .dataframe tbody tr th {\n",
       "        vertical-align: top;\n",
       "    }\n",
       "\n",
       "    .dataframe thead th {\n",
       "        text-align: right;\n",
       "    }\n",
       "</style>\n",
       "<table border=\"1\" class=\"dataframe\">\n",
       "  <thead>\n",
       "    <tr style=\"text-align: right;\">\n",
       "      <th></th>\n",
       "      <th></th>\n",
       "      <th>Quantity</th>\n",
       "      <th>TotalPurchase</th>\n",
       "    </tr>\n",
       "    <tr>\n",
       "      <th>Customer ID</th>\n",
       "      <th>InvoiceNo</th>\n",
       "      <th></th>\n",
       "      <th></th>\n",
       "    </tr>\n",
       "  </thead>\n",
       "  <tbody>\n",
       "    <tr>\n",
       "      <th rowspan=\"2\" valign=\"top\">12346</th>\n",
       "      <th>541431</th>\n",
       "      <td>74215</td>\n",
       "      <td>77183.60</td>\n",
       "    </tr>\n",
       "    <tr>\n",
       "      <th>C541433</th>\n",
       "      <td>74215</td>\n",
       "      <td>77183.60</td>\n",
       "    </tr>\n",
       "    <tr>\n",
       "      <th rowspan=\"3\" valign=\"top\">12747</th>\n",
       "      <th>537215</th>\n",
       "      <td>108</td>\n",
       "      <td>358.56</td>\n",
       "    </tr>\n",
       "    <tr>\n",
       "      <th>538537</th>\n",
       "      <td>105</td>\n",
       "      <td>347.71</td>\n",
       "    </tr>\n",
       "    <tr>\n",
       "      <th>541677</th>\n",
       "      <td>88</td>\n",
       "      <td>303.04</td>\n",
       "    </tr>\n",
       "    <tr>\n",
       "      <th>...</th>\n",
       "      <th>...</th>\n",
       "      <td>...</td>\n",
       "      <td>...</td>\n",
       "    </tr>\n",
       "    <tr>\n",
       "      <th rowspan=\"2\" valign=\"top\">18283</th>\n",
       "      <th>579673</th>\n",
       "      <td>134</td>\n",
       "      <td>223.61</td>\n",
       "    </tr>\n",
       "    <tr>\n",
       "      <th>580872</th>\n",
       "      <td>142</td>\n",
       "      <td>208.00</td>\n",
       "    </tr>\n",
       "    <tr>\n",
       "      <th rowspan=\"3\" valign=\"top\">18287</th>\n",
       "      <th>554065</th>\n",
       "      <td>488</td>\n",
       "      <td>765.28</td>\n",
       "    </tr>\n",
       "    <tr>\n",
       "      <th>570715</th>\n",
       "      <td>990</td>\n",
       "      <td>1001.32</td>\n",
       "    </tr>\n",
       "    <tr>\n",
       "      <th>573167</th>\n",
       "      <td>108</td>\n",
       "      <td>70.68</td>\n",
       "    </tr>\n",
       "  </tbody>\n",
       "</table>\n",
       "<p>19857 rows × 2 columns</p>\n",
       "</div>"
      ],
      "text/plain": [
       "                       Quantity  TotalPurchase\n",
       "Customer ID InvoiceNo                         \n",
       "12346       541431        74215       77183.60\n",
       "            C541433       74215       77183.60\n",
       "12747       537215          108         358.56\n",
       "            538537          105         347.71\n",
       "            541677           88         303.04\n",
       "...                         ...            ...\n",
       "18283       579673          134         223.61\n",
       "            580872          142         208.00\n",
       "18287       554065          488         765.28\n",
       "            570715          990        1001.32\n",
       "            573167          108          70.68\n",
       "\n",
       "[19857 rows x 2 columns]"
      ]
     },
     "execution_count": 207,
     "metadata": {},
     "output_type": "execute_result"
    }
   ],
   "source": [
    "df_uk.rename(columns = {'Invoice':'InvoiceNo'},inplace=True)\n",
    "df_uk.groupby(by=['Customer ID','InvoiceNo']).sum()"
   ]
  },
  {
   "cell_type": "code",
   "execution_count": 208,
   "id": "bb467585",
   "metadata": {},
   "outputs": [],
   "source": [
    "df_uk_group = df_uk.groupby('Customer ID').agg({'InvoiceDate': lambda date: (date.max() - date.min()).days,\n",
    "                                                   'InvoiceNo': lambda num: len(num),\n",
    "                                                   'Quantity': lambda quant: quant.sum(),\n",
    "                                                   'TotalPurchase': lambda price: price.sum()\n",
    "                                                  })"
   ]
  },
  {
   "cell_type": "code",
   "execution_count": 209,
   "id": "1971c0dc",
   "metadata": {},
   "outputs": [
    {
     "data": {
      "text/html": [
       "<div>\n",
       "<style scoped>\n",
       "    .dataframe tbody tr th:only-of-type {\n",
       "        vertical-align: middle;\n",
       "    }\n",
       "\n",
       "    .dataframe tbody tr th {\n",
       "        vertical-align: top;\n",
       "    }\n",
       "\n",
       "    .dataframe thead th {\n",
       "        text-align: right;\n",
       "    }\n",
       "</style>\n",
       "<table border=\"1\" class=\"dataframe\">\n",
       "  <thead>\n",
       "    <tr style=\"text-align: right;\">\n",
       "      <th></th>\n",
       "      <th>InvoiceDate</th>\n",
       "      <th>InvoiceNo</th>\n",
       "      <th>Quantity</th>\n",
       "      <th>TotalPurchase</th>\n",
       "    </tr>\n",
       "    <tr>\n",
       "      <th>Customer ID</th>\n",
       "      <th></th>\n",
       "      <th></th>\n",
       "      <th></th>\n",
       "      <th></th>\n",
       "    </tr>\n",
       "  </thead>\n",
       "  <tbody>\n",
       "    <tr>\n",
       "      <th>12346</th>\n",
       "      <td>0</td>\n",
       "      <td>2</td>\n",
       "      <td>148430</td>\n",
       "      <td>154367.20</td>\n",
       "    </tr>\n",
       "    <tr>\n",
       "      <th>12747</th>\n",
       "      <td>366</td>\n",
       "      <td>103</td>\n",
       "      <td>1275</td>\n",
       "      <td>4196.01</td>\n",
       "    </tr>\n",
       "    <tr>\n",
       "      <th>12748</th>\n",
       "      <td>372</td>\n",
       "      <td>4642</td>\n",
       "      <td>27286</td>\n",
       "      <td>38367.36</td>\n",
       "    </tr>\n",
       "    <tr>\n",
       "      <th>12749</th>\n",
       "      <td>209</td>\n",
       "      <td>231</td>\n",
       "      <td>1520</td>\n",
       "      <td>4313.56</td>\n",
       "    </tr>\n",
       "    <tr>\n",
       "      <th>12820</th>\n",
       "      <td>323</td>\n",
       "      <td>59</td>\n",
       "      <td>722</td>\n",
       "      <td>942.34</td>\n",
       "    </tr>\n",
       "    <tr>\n",
       "      <th>...</th>\n",
       "      <td>...</td>\n",
       "      <td>...</td>\n",
       "      <td>...</td>\n",
       "      <td>...</td>\n",
       "    </tr>\n",
       "    <tr>\n",
       "      <th>18280</th>\n",
       "      <td>0</td>\n",
       "      <td>10</td>\n",
       "      <td>45</td>\n",
       "      <td>180.60</td>\n",
       "    </tr>\n",
       "    <tr>\n",
       "      <th>18281</th>\n",
       "      <td>0</td>\n",
       "      <td>7</td>\n",
       "      <td>54</td>\n",
       "      <td>80.82</td>\n",
       "    </tr>\n",
       "    <tr>\n",
       "      <th>18282</th>\n",
       "      <td>118</td>\n",
       "      <td>13</td>\n",
       "      <td>108</td>\n",
       "      <td>179.50</td>\n",
       "    </tr>\n",
       "    <tr>\n",
       "      <th>18283</th>\n",
       "      <td>333</td>\n",
       "      <td>756</td>\n",
       "      <td>1397</td>\n",
       "      <td>2094.88</td>\n",
       "    </tr>\n",
       "    <tr>\n",
       "      <th>18287</th>\n",
       "      <td>158</td>\n",
       "      <td>70</td>\n",
       "      <td>1586</td>\n",
       "      <td>1837.28</td>\n",
       "    </tr>\n",
       "  </tbody>\n",
       "</table>\n",
       "<p>3950 rows × 4 columns</p>\n",
       "</div>"
      ],
      "text/plain": [
       "             InvoiceDate  InvoiceNo  Quantity  TotalPurchase\n",
       "Customer ID                                                 \n",
       "12346                  0          2    148430      154367.20\n",
       "12747                366        103      1275        4196.01\n",
       "12748                372       4642     27286       38367.36\n",
       "12749                209        231      1520        4313.56\n",
       "12820                323         59       722         942.34\n",
       "...                  ...        ...       ...            ...\n",
       "18280                  0         10        45         180.60\n",
       "18281                  0          7        54          80.82\n",
       "18282                118         13       108         179.50\n",
       "18283                333        756      1397        2094.88\n",
       "18287                158         70      1586        1837.28\n",
       "\n",
       "[3950 rows x 4 columns]"
      ]
     },
     "execution_count": 209,
     "metadata": {},
     "output_type": "execute_result"
    }
   ],
   "source": [
    "df_uk_group"
   ]
  },
  {
   "cell_type": "code",
   "execution_count": 210,
   "id": "f8662231",
   "metadata": {},
   "outputs": [],
   "source": [
    "#Renaming the columns\n",
    "df_uk_group.rename(columns={'InvoiceDate':'days', \n",
    "                    'InvoiceNo':'transactions',\n",
    "                    'Quantity':'units',\n",
    "                    'TotalPurchase':'total_price',\n",
    "                   }, inplace=True)"
   ]
  },
  {
   "cell_type": "code",
   "execution_count": 211,
   "id": "9822924b",
   "metadata": {},
   "outputs": [
    {
     "data": {
      "text/html": [
       "<div>\n",
       "<style scoped>\n",
       "    .dataframe tbody tr th:only-of-type {\n",
       "        vertical-align: middle;\n",
       "    }\n",
       "\n",
       "    .dataframe tbody tr th {\n",
       "        vertical-align: top;\n",
       "    }\n",
       "\n",
       "    .dataframe thead th {\n",
       "        text-align: right;\n",
       "    }\n",
       "</style>\n",
       "<table border=\"1\" class=\"dataframe\">\n",
       "  <thead>\n",
       "    <tr style=\"text-align: right;\">\n",
       "      <th></th>\n",
       "      <th>days</th>\n",
       "      <th>transactions</th>\n",
       "      <th>units</th>\n",
       "      <th>total_price</th>\n",
       "    </tr>\n",
       "    <tr>\n",
       "      <th>Customer ID</th>\n",
       "      <th></th>\n",
       "      <th></th>\n",
       "      <th></th>\n",
       "      <th></th>\n",
       "    </tr>\n",
       "  </thead>\n",
       "  <tbody>\n",
       "    <tr>\n",
       "      <th>12346</th>\n",
       "      <td>0</td>\n",
       "      <td>2</td>\n",
       "      <td>148430</td>\n",
       "      <td>154367.20</td>\n",
       "    </tr>\n",
       "    <tr>\n",
       "      <th>12747</th>\n",
       "      <td>366</td>\n",
       "      <td>103</td>\n",
       "      <td>1275</td>\n",
       "      <td>4196.01</td>\n",
       "    </tr>\n",
       "  </tbody>\n",
       "</table>\n",
       "</div>"
      ],
      "text/plain": [
       "             days  transactions   units  total_price\n",
       "Customer ID                                         \n",
       "12346           0             2  148430    154367.20\n",
       "12747         366           103    1275      4196.01"
      ]
     },
     "execution_count": 211,
     "metadata": {},
     "output_type": "execute_result"
    }
   ],
   "source": [
    "df_uk_group.head(2)"
   ]
  },
  {
   "cell_type": "markdown",
   "id": "6f8549d3",
   "metadata": {},
   "source": [
    "**days:** number of days that the customer took time to make another purchase </br>\n",
    "**transactions:** how many invoices the customer has generated </br>\n",
    "**units:** how many pieces the customer has bought </br>\n",
    "**total_price:** the added value or incomes generated by the customer to the enterprise"
   ]
  },
  {
   "cell_type": "markdown",
   "id": "8b1914e7",
   "metadata": {},
   "source": [
    "## 2.3 Generating the CLTV (target value)"
   ]
  },
  {
   "cell_type": "markdown",
   "id": "adf622fa",
   "metadata": {},
   "source": [
    "#### 2.3.1 Average Order Value\n",
    "Average Sales = (Total Sales)/(total no. of orders), in this case is: total_price / transactions."
   ]
  },
  {
   "cell_type": "code",
   "execution_count": 212,
   "id": "692888a4",
   "metadata": {},
   "outputs": [],
   "source": [
    "df_uk_group['avg_order_value'] = df_uk_group['total_price']/df_uk_group['transactions']"
   ]
  },
  {
   "cell_type": "markdown",
   "id": "56a278ac",
   "metadata": {},
   "source": [
    "#### 2.3.2 Frequency of purchase\n",
    "Purchase Frequency = (Total no. of orders)/(Total unique customers), in this case: summation(transactions)/total_customers"
   ]
  },
  {
   "cell_type": "code",
   "execution_count": 213,
   "id": "cfaf3cfe",
   "metadata": {},
   "outputs": [],
   "source": [
    "purchase_frequency = sum(df_uk_group['transactions'])/len(df_uk_group.index.tolist())"
   ]
  },
  {
   "cell_type": "markdown",
   "id": "d40b93b8",
   "metadata": {},
   "source": [
    "#### 2.3.3 Calculate Repeat Rate and Churn Rate\n",
    "Churn rate = 1 - Retention Rate </br>\n",
    "Retention Rate = (Total number of orders greater than 1)/(Total unique customers)"
   ]
  },
  {
   "cell_type": "code",
   "execution_count": 214,
   "id": "a4780a48",
   "metadata": {},
   "outputs": [
    {
     "data": {
      "text/plain": [
       "0.9807594936708861"
      ]
     },
     "execution_count": 214,
     "metadata": {},
     "output_type": "execute_result"
    }
   ],
   "source": [
    "df_uk_group[df_uk_group.transactions > 1].shape[0]/len(df_uk_group.index.tolist())"
   ]
  },
  {
   "cell_type": "code",
   "execution_count": 215,
   "id": "517be9c0",
   "metadata": {},
   "outputs": [
    {
     "data": {
      "text/plain": [
       "0.019240506329113893"
      ]
     },
     "execution_count": 215,
     "metadata": {},
     "output_type": "execute_result"
    }
   ],
   "source": [
    "churn_rate = 1 - df_uk_group[df_uk_group.transactions > 1].shape[0]/len(df_uk_group.index.tolist())\n",
    "churn_rate"
   ]
  },
  {
   "cell_type": "code",
   "execution_count": 216,
   "id": "30137ded",
   "metadata": {},
   "outputs": [
    {
     "data": {
      "text/plain": [
       "['days', 'transactions', 'units', 'total_price', 'avg_order_value']"
      ]
     },
     "execution_count": 216,
     "metadata": {},
     "output_type": "execute_result"
    }
   ],
   "source": [
    "df_uk_group.columns.tolist()"
   ]
  },
  {
   "cell_type": "markdown",
   "id": "63750f2e",
   "metadata": {},
   "source": [
    "#### 2.3.4 Calculate Customer Lifetime Value\n",
    "(Average_order_value * Purchase_Frequency)/Churn_rate"
   ]
  },
  {
   "cell_type": "code",
   "execution_count": 217,
   "id": "fb89d817",
   "metadata": {},
   "outputs": [],
   "source": [
    "df_uk_group['CLV'] = (df_uk_group['avg_order_value']*purchase_frequency)/churn_rate"
   ]
  },
  {
   "cell_type": "code",
   "execution_count": 218,
   "id": "9c49a3f8",
   "metadata": {},
   "outputs": [
    {
     "data": {
      "text/html": [
       "<div>\n",
       "<style scoped>\n",
       "    .dataframe tbody tr th:only-of-type {\n",
       "        vertical-align: middle;\n",
       "    }\n",
       "\n",
       "    .dataframe tbody tr th {\n",
       "        vertical-align: top;\n",
       "    }\n",
       "\n",
       "    .dataframe thead th {\n",
       "        text-align: right;\n",
       "    }\n",
       "</style>\n",
       "<table border=\"1\" class=\"dataframe\">\n",
       "  <thead>\n",
       "    <tr style=\"text-align: right;\">\n",
       "      <th></th>\n",
       "      <th>days</th>\n",
       "      <th>transactions</th>\n",
       "      <th>units</th>\n",
       "      <th>total_price</th>\n",
       "      <th>avg_order_value</th>\n",
       "      <th>CLV</th>\n",
       "    </tr>\n",
       "    <tr>\n",
       "      <th>Customer ID</th>\n",
       "      <th></th>\n",
       "      <th></th>\n",
       "      <th></th>\n",
       "      <th></th>\n",
       "      <th></th>\n",
       "      <th></th>\n",
       "    </tr>\n",
       "  </thead>\n",
       "  <tbody>\n",
       "    <tr>\n",
       "      <th>12346</th>\n",
       "      <td>0</td>\n",
       "      <td>2</td>\n",
       "      <td>148430</td>\n",
       "      <td>154367.20</td>\n",
       "      <td>77183.600000</td>\n",
       "      <td>3.675138e+08</td>\n",
       "    </tr>\n",
       "    <tr>\n",
       "      <th>12747</th>\n",
       "      <td>366</td>\n",
       "      <td>103</td>\n",
       "      <td>1275</td>\n",
       "      <td>4196.01</td>\n",
       "      <td>40.737961</td>\n",
       "      <td>1.939759e+05</td>\n",
       "    </tr>\n",
       "    <tr>\n",
       "      <th>12748</th>\n",
       "      <td>372</td>\n",
       "      <td>4642</td>\n",
       "      <td>27286</td>\n",
       "      <td>38367.36</td>\n",
       "      <td>8.265265</td>\n",
       "      <td>3.935549e+04</td>\n",
       "    </tr>\n",
       "  </tbody>\n",
       "</table>\n",
       "</div>"
      ],
      "text/plain": [
       "             days  transactions   units  total_price  avg_order_value  \\\n",
       "Customer ID                                                             \n",
       "12346           0             2  148430    154367.20     77183.600000   \n",
       "12747         366           103    1275      4196.01        40.737961   \n",
       "12748         372          4642   27286     38367.36         8.265265   \n",
       "\n",
       "                      CLV  \n",
       "Customer ID                \n",
       "12346        3.675138e+08  \n",
       "12747        1.939759e+05  \n",
       "12748        3.935549e+04  "
      ]
     },
     "execution_count": 218,
     "metadata": {},
     "output_type": "execute_result"
    }
   ],
   "source": [
    "df_uk_group.head(3)"
   ]
  },
  {
   "cell_type": "code",
   "execution_count": 219,
   "id": "16a94c90",
   "metadata": {},
   "outputs": [
    {
     "data": {
      "text/html": [
       "<div>\n",
       "<style scoped>\n",
       "    .dataframe tbody tr th:only-of-type {\n",
       "        vertical-align: middle;\n",
       "    }\n",
       "\n",
       "    .dataframe tbody tr th {\n",
       "        vertical-align: top;\n",
       "    }\n",
       "\n",
       "    .dataframe thead th {\n",
       "        text-align: right;\n",
       "    }\n",
       "</style>\n",
       "<table border=\"1\" class=\"dataframe\">\n",
       "  <thead>\n",
       "    <tr style=\"text-align: right;\">\n",
       "      <th></th>\n",
       "      <th>days</th>\n",
       "      <th>transactions</th>\n",
       "      <th>units</th>\n",
       "      <th>total_price</th>\n",
       "      <th>avg_order_value</th>\n",
       "      <th>CLV</th>\n",
       "    </tr>\n",
       "  </thead>\n",
       "  <tbody>\n",
       "    <tr>\n",
       "      <th>count</th>\n",
       "      <td>3950.000000</td>\n",
       "      <td>3950.000000</td>\n",
       "      <td>3950.000000</td>\n",
       "      <td>3950.000000</td>\n",
       "      <td>3950.000000</td>\n",
       "      <td>3.950000e+03</td>\n",
       "    </tr>\n",
       "    <tr>\n",
       "      <th>mean</th>\n",
       "      <td>133.804304</td>\n",
       "      <td>91.614684</td>\n",
       "      <td>1146.939494</td>\n",
       "      <td>1987.065750</td>\n",
       "      <td>80.000557</td>\n",
       "      <td>3.809269e+05</td>\n",
       "    </tr>\n",
       "    <tr>\n",
       "      <th>std</th>\n",
       "      <td>132.935905</td>\n",
       "      <td>220.557389</td>\n",
       "      <td>4883.375951</td>\n",
       "      <td>9348.700952</td>\n",
       "      <td>1840.015628</td>\n",
       "      <td>8.761331e+06</td>\n",
       "    </tr>\n",
       "    <tr>\n",
       "      <th>min</th>\n",
       "      <td>0.000000</td>\n",
       "      <td>1.000000</td>\n",
       "      <td>1.000000</td>\n",
       "      <td>0.000000</td>\n",
       "      <td>0.000000</td>\n",
       "      <td>0.000000e+00</td>\n",
       "    </tr>\n",
       "    <tr>\n",
       "      <th>25%</th>\n",
       "      <td>0.000000</td>\n",
       "      <td>17.000000</td>\n",
       "      <td>154.000000</td>\n",
       "      <td>300.835000</td>\n",
       "      <td>11.145000</td>\n",
       "      <td>5.306750e+04</td>\n",
       "    </tr>\n",
       "    <tr>\n",
       "      <th>50%</th>\n",
       "      <td>98.500000</td>\n",
       "      <td>41.000000</td>\n",
       "      <td>365.000000</td>\n",
       "      <td>653.085000</td>\n",
       "      <td>17.203814</td>\n",
       "      <td>8.191686e+04</td>\n",
       "    </tr>\n",
       "    <tr>\n",
       "      <th>75%</th>\n",
       "      <td>255.000000</td>\n",
       "      <td>101.000000</td>\n",
       "      <td>955.000000</td>\n",
       "      <td>1611.307500</td>\n",
       "      <td>24.333122</td>\n",
       "      <td>1.158634e+05</td>\n",
       "    </tr>\n",
       "    <tr>\n",
       "      <th>max</th>\n",
       "      <td>373.000000</td>\n",
       "      <td>7983.000000</td>\n",
       "      <td>161992.000000</td>\n",
       "      <td>336942.100000</td>\n",
       "      <td>84235.525000</td>\n",
       "      <td>4.010919e+08</td>\n",
       "    </tr>\n",
       "  </tbody>\n",
       "</table>\n",
       "</div>"
      ],
      "text/plain": [
       "              days  transactions          units    total_price  \\\n",
       "count  3950.000000   3950.000000    3950.000000    3950.000000   \n",
       "mean    133.804304     91.614684    1146.939494    1987.065750   \n",
       "std     132.935905    220.557389    4883.375951    9348.700952   \n",
       "min       0.000000      1.000000       1.000000       0.000000   \n",
       "25%       0.000000     17.000000     154.000000     300.835000   \n",
       "50%      98.500000     41.000000     365.000000     653.085000   \n",
       "75%     255.000000    101.000000     955.000000    1611.307500   \n",
       "max     373.000000   7983.000000  161992.000000  336942.100000   \n",
       "\n",
       "       avg_order_value           CLV  \n",
       "count      3950.000000  3.950000e+03  \n",
       "mean         80.000557  3.809269e+05  \n",
       "std        1840.015628  8.761331e+06  \n",
       "min           0.000000  0.000000e+00  \n",
       "25%          11.145000  5.306750e+04  \n",
       "50%          17.203814  8.191686e+04  \n",
       "75%          24.333122  1.158634e+05  \n",
       "max       84235.525000  4.010919e+08  "
      ]
     },
     "execution_count": 219,
     "metadata": {},
     "output_type": "execute_result"
    }
   ],
   "source": [
    "df_uk_group.describe()"
   ]
  },
  {
   "cell_type": "code",
   "execution_count": 220,
   "id": "75bc38f5",
   "metadata": {},
   "outputs": [
    {
     "data": {
      "text/html": [
       "<div>\n",
       "<style scoped>\n",
       "    .dataframe tbody tr th:only-of-type {\n",
       "        vertical-align: middle;\n",
       "    }\n",
       "\n",
       "    .dataframe tbody tr th {\n",
       "        vertical-align: top;\n",
       "    }\n",
       "\n",
       "    .dataframe thead th {\n",
       "        text-align: right;\n",
       "    }\n",
       "</style>\n",
       "<table border=\"1\" class=\"dataframe\">\n",
       "  <thead>\n",
       "    <tr style=\"text-align: right;\">\n",
       "      <th></th>\n",
       "      <th>days</th>\n",
       "      <th>transactions</th>\n",
       "      <th>units</th>\n",
       "      <th>total_price</th>\n",
       "      <th>avg_order_value</th>\n",
       "      <th>CLV</th>\n",
       "    </tr>\n",
       "    <tr>\n",
       "      <th>Customer ID</th>\n",
       "      <th></th>\n",
       "      <th></th>\n",
       "      <th></th>\n",
       "      <th></th>\n",
       "      <th></th>\n",
       "      <th></th>\n",
       "    </tr>\n",
       "  </thead>\n",
       "  <tbody>\n",
       "    <tr>\n",
       "      <th>13256</th>\n",
       "      <td>0</td>\n",
       "      <td>1</td>\n",
       "      <td>12540</td>\n",
       "      <td>0.0</td>\n",
       "      <td>0.0</td>\n",
       "      <td>0.0</td>\n",
       "    </tr>\n",
       "  </tbody>\n",
       "</table>\n",
       "</div>"
      ],
      "text/plain": [
       "             days  transactions  units  total_price  avg_order_value  CLV\n",
       "Customer ID                                                              \n",
       "13256           0             1  12540          0.0              0.0  0.0"
      ]
     },
     "execution_count": 220,
     "metadata": {},
     "output_type": "execute_result"
    }
   ],
   "source": [
    "df_uk_group[df_uk_group['avg_order_value']==0]"
   ]
  },
  {
   "cell_type": "code",
   "execution_count": 221,
   "id": "a54f2e18",
   "metadata": {},
   "outputs": [
    {
     "data": {
      "text/plain": [
       "[13256]"
      ]
     },
     "execution_count": 221,
     "metadata": {},
     "output_type": "execute_result"
    }
   ],
   "source": [
    "df_uk_group[df_uk_group['total_price']==0].index.tolist()"
   ]
  },
  {
   "cell_type": "code",
   "execution_count": 223,
   "id": "104f4eea",
   "metadata": {},
   "outputs": [],
   "source": [
    "df_uk_group.drop([13256], inplace=True)\n",
    "#df_uk_group.drop([14103,14827], inplace=True)"
   ]
  },
  {
   "cell_type": "code",
   "execution_count": 224,
   "id": "47738c8e",
   "metadata": {},
   "outputs": [
    {
     "data": {
      "text/plain": [
       "3949"
      ]
     },
     "execution_count": 224,
     "metadata": {},
     "output_type": "execute_result"
    }
   ],
   "source": [
    "df_uk_group.shape[0]"
   ]
  },
  {
   "cell_type": "code",
   "execution_count": 225,
   "id": "fca26871",
   "metadata": {},
   "outputs": [
    {
     "data": {
      "text/html": [
       "<div>\n",
       "<style scoped>\n",
       "    .dataframe tbody tr th:only-of-type {\n",
       "        vertical-align: middle;\n",
       "    }\n",
       "\n",
       "    .dataframe tbody tr th {\n",
       "        vertical-align: top;\n",
       "    }\n",
       "\n",
       "    .dataframe thead th {\n",
       "        text-align: right;\n",
       "    }\n",
       "</style>\n",
       "<table border=\"1\" class=\"dataframe\">\n",
       "  <thead>\n",
       "    <tr style=\"text-align: right;\">\n",
       "      <th></th>\n",
       "      <th>days</th>\n",
       "      <th>transactions</th>\n",
       "      <th>units</th>\n",
       "      <th>total_price</th>\n",
       "      <th>avg_order_value</th>\n",
       "      <th>CLV</th>\n",
       "    </tr>\n",
       "  </thead>\n",
       "  <tbody>\n",
       "    <tr>\n",
       "      <th>count</th>\n",
       "      <td>3949.000000</td>\n",
       "      <td>3949.000000</td>\n",
       "      <td>3949.000000</td>\n",
       "      <td>3949.000000</td>\n",
       "      <td>3949.000000</td>\n",
       "      <td>3.949000e+03</td>\n",
       "    </tr>\n",
       "    <tr>\n",
       "      <th>mean</th>\n",
       "      <td>133.838187</td>\n",
       "      <td>91.637630</td>\n",
       "      <td>1144.054444</td>\n",
       "      <td>1987.568932</td>\n",
       "      <td>80.020816</td>\n",
       "      <td>3.810233e+05</td>\n",
       "    </tr>\n",
       "    <tr>\n",
       "      <th>std</th>\n",
       "      <td>132.935680</td>\n",
       "      <td>220.580604</td>\n",
       "      <td>4880.626482</td>\n",
       "      <td>9349.831360</td>\n",
       "      <td>1840.248204</td>\n",
       "      <td>8.762439e+06</td>\n",
       "    </tr>\n",
       "    <tr>\n",
       "      <th>min</th>\n",
       "      <td>0.000000</td>\n",
       "      <td>1.000000</td>\n",
       "      <td>1.000000</td>\n",
       "      <td>1.250000</td>\n",
       "      <td>1.250000</td>\n",
       "      <td>5.951941e+03</td>\n",
       "    </tr>\n",
       "    <tr>\n",
       "      <th>25%</th>\n",
       "      <td>0.000000</td>\n",
       "      <td>17.000000</td>\n",
       "      <td>154.000000</td>\n",
       "      <td>300.850000</td>\n",
       "      <td>11.175000</td>\n",
       "      <td>5.321035e+04</td>\n",
       "    </tr>\n",
       "    <tr>\n",
       "      <th>50%</th>\n",
       "      <td>99.000000</td>\n",
       "      <td>41.000000</td>\n",
       "      <td>365.000000</td>\n",
       "      <td>653.350000</td>\n",
       "      <td>17.204091</td>\n",
       "      <td>8.191818e+04</td>\n",
       "    </tr>\n",
       "    <tr>\n",
       "      <th>75%</th>\n",
       "      <td>255.000000</td>\n",
       "      <td>101.000000</td>\n",
       "      <td>955.000000</td>\n",
       "      <td>1611.590000</td>\n",
       "      <td>24.334359</td>\n",
       "      <td>1.158693e+05</td>\n",
       "    </tr>\n",
       "    <tr>\n",
       "      <th>max</th>\n",
       "      <td>373.000000</td>\n",
       "      <td>7983.000000</td>\n",
       "      <td>161992.000000</td>\n",
       "      <td>336942.100000</td>\n",
       "      <td>84235.525000</td>\n",
       "      <td>4.010919e+08</td>\n",
       "    </tr>\n",
       "  </tbody>\n",
       "</table>\n",
       "</div>"
      ],
      "text/plain": [
       "              days  transactions          units    total_price  \\\n",
       "count  3949.000000   3949.000000    3949.000000    3949.000000   \n",
       "mean    133.838187     91.637630    1144.054444    1987.568932   \n",
       "std     132.935680    220.580604    4880.626482    9349.831360   \n",
       "min       0.000000      1.000000       1.000000       1.250000   \n",
       "25%       0.000000     17.000000     154.000000     300.850000   \n",
       "50%      99.000000     41.000000     365.000000     653.350000   \n",
       "75%     255.000000    101.000000     955.000000    1611.590000   \n",
       "max     373.000000   7983.000000  161992.000000  336942.100000   \n",
       "\n",
       "       avg_order_value           CLV  \n",
       "count      3949.000000  3.949000e+03  \n",
       "mean         80.020816  3.810233e+05  \n",
       "std        1840.248204  8.762439e+06  \n",
       "min           1.250000  5.951941e+03  \n",
       "25%          11.175000  5.321035e+04  \n",
       "50%          17.204091  8.191818e+04  \n",
       "75%          24.334359  1.158693e+05  \n",
       "max       84235.525000  4.010919e+08  "
      ]
     },
     "execution_count": 225,
     "metadata": {},
     "output_type": "execute_result"
    }
   ],
   "source": [
    "df_uk_group.describe()"
   ]
  },
  {
   "cell_type": "markdown",
   "id": "e5fa85a5",
   "metadata": {},
   "source": [
    "### 2.3.5 Exploratory Data Analysis in numerical Values"
   ]
  },
  {
   "cell_type": "code",
   "execution_count": 226,
   "id": "26f90245",
   "metadata": {},
   "outputs": [],
   "source": [
    "#defining boxplot and histogram in one picture\n",
    "def box_histo_plot(dataframe, x_label, figsize=(12,7), kde=False, bins=None):\n",
    "    \"\"\"\n",
    "    dataframe: dataframe of data\n",
    "    xlabel: feaure/s of the dataframe\n",
    "    figsize: dimensions of the figure\n",
    "    kde: does it show a density curve?\n",
    "    bins: number of bins in the histogram (default None)\n",
    "    \"\"\"\n",
    "    \n",
    "    #1) creating 2 subplots in 2 roes\n",
    "    f2, (ax_box2, ax_hist2) = plt.subplots(\n",
    "        nrows=2,\n",
    "        sharex=True, #share x-axis among all the subplots\n",
    "        gridspec_kw={\"height_ratios\": (0.25, 0.75)},\n",
    "        figsize=figsize,\n",
    "    )\n",
    "    \n",
    "    #2.1) Adding boxplot in one first subplot\n",
    "    sns.boxplot(\n",
    "        data=dataframe, x=x_label, \n",
    "        ax=ax_box2, ##adding boxplot in subplot\n",
    "        color=\"green\"\n",
    "    )\n",
    "    ax_box2.axvline(\n",
    "        dataframe[x_label].mean(), color=\"yellow\", linestyle=\"-.\"\n",
    "    )\n",
    "    \n",
    "    #2.2) Adding the histogram in second subplot\n",
    "    if bins:#if we in arguments input define bins \n",
    "        sns.histplot(\n",
    "            data=dataframe, x=x_labelure, kde=kde, \n",
    "            ax=ax_hist2, #addung histogram in subplot\n",
    "            bins=bins, palette=\"winter\")\n",
    "    else:\n",
    "        sns.histplot(data=dataframe, x=x_label, kde=kde, ax=ax_hist2)\n",
    "    \n",
    "    #Adding mean line to the histogram\n",
    "    ax_hist2.axvline(\n",
    "        dataframe[x_label].mean(), color=\"yellow\", linestyle=\"-.\"\n",
    "    )\n",
    "    \n",
    "    #Adding median line to the histogram    \n",
    "    ax_hist2.axvline(\n",
    "        dataframe[x_label].median(), color=\"red\", linestyle=\"--\"\n",
    "    )\n",
    "    plt.show()"
   ]
  },
  {
   "cell_type": "code",
   "execution_count": 227,
   "id": "d402bcaf",
   "metadata": {
    "scrolled": true
   },
   "outputs": [
    {
     "data": {
      "text/plain": [
       "['days', 'transactions', 'units', 'total_price', 'avg_order_value', 'CLV']"
      ]
     },
     "execution_count": 227,
     "metadata": {},
     "output_type": "execute_result"
    }
   ],
   "source": [
    "df_uk_group.columns.tolist()"
   ]
  },
  {
   "cell_type": "markdown",
   "id": "0f4cab3c",
   "metadata": {},
   "source": [
    "### Treatment of Outliers"
   ]
  },
  {
   "cell_type": "code",
   "execution_count": 228,
   "id": "b7511bd7",
   "metadata": {},
   "outputs": [],
   "source": [
    "# functions to treat outliers by flooring and capping\n",
    "# this method is good to clip outliers\n",
    "\n",
    "def treat_outliers(df, col):\n",
    "    \"\"\"\n",
    "    Treats outliers in a variable\n",
    "\n",
    "    df: dataframe\n",
    "    col: dataframe column\n",
    "    \"\"\"\n",
    "    Q1 = df[col].quantile(0.25)  # 25th quantile\n",
    "    Q3 = df[col].quantile(0.75)  # 75th quantile\n",
    "    IQR = Q3 - Q1\n",
    "    Lower_Whisker = Q1 - 1.5 * IQR\n",
    "    Upper_Whisker = Q3 + 1.5 * IQR\n",
    "\n",
    "    # all the values smaller than Lower_Whisker will be assigned the value of Lower_Whisker\n",
    "    # all the values greater than Upper_Whisker will be assigned the value of Upper_Whisker\n",
    "    df[col] = np.clip(df[col], Lower_Whisker, Upper_Whisker) #Replace outliers for beyond than whisker by the whisker value\n",
    "\n",
    "    return df\n",
    "\n",
    "\n",
    "def treat_outliers_all(df, col_list):\n",
    "    \"\"\"\n",
    "    Treat outliers in a list of variables\n",
    "\n",
    "    df: dataframe\n",
    "    col_list: list of dataframe columns\n",
    "    \"\"\"\n",
    "    for c in col_list:\n",
    "        df = treat_outliers(df, c)\n",
    "\n",
    "    return df"
   ]
  },
  {
   "cell_type": "code",
   "execution_count": 229,
   "id": "d0122d9b",
   "metadata": {
    "scrolled": true
   },
   "outputs": [
    {
     "data": {
      "image/png": "[encoded data removed]",
      "text/plain": [
       "<Figure size 864x432 with 2 Axes>"
      ]
     },
     "metadata": {
      "needs_background": "light"
     },
     "output_type": "display_data"
    },
    {
     "data": {
      "image/png": "[encoded data removed]",
      "text/plain": [
       "<Figure size 864x432 with 2 Axes>"
      ]
     },
     "metadata": {
      "needs_background": "light"
     },
     "output_type": "display_data"
    },
    {
     "data": {
      "image/png": "[encoded data removed]",
      "text/plain": [
       "<Figure size 864x432 with 2 Axes>"
      ]
     },
     "metadata": {
      "needs_background": "light"
     },
     "output_type": "display_data"
    },
    {
     "data": {
      "image/png": "[encoded data removed]",
      "text/plain": [
       "<Figure size 864x432 with 2 Axes>"
      ]
     },
     "metadata": {
      "needs_background": "light"
     },
     "output_type": "display_data"
    },
    {
     "data": {
      "image/png": "[encoded data removed]",
      "text/plain": [
       "<Figure size 864x432 with 2 Axes>"
      ]
     },
     "metadata": {
      "needs_background": "light"
     },
     "output_type": "display_data"
    },
    {
     "data": {
      "image/png": "[encoded data removed]",
      "text/plain": [
       "<Figure size 864x432 with 2 Axes>"
      ]
     },
     "metadata": {
      "needs_background": "light"
     },
     "output_type": "display_data"
    }
   ],
   "source": [
    "cols=df_uk_group.columns.tolist()\n",
    "for i in np.linspace(0,5,6,dtype=int):\n",
    "    box_histo_plot(df_uk_group, cols[i],figsize=(12,6))"
   ]
  },
  {
   "cell_type": "code",
   "execution_count": 230,
   "id": "b160fb22",
   "metadata": {},
   "outputs": [
    {
     "name": "stdout",
     "output_type": "stream",
     "text": [
      "<class 'pandas.core.frame.DataFrame'>\n",
      "Int64Index: 3949 entries, 12346 to 18287\n",
      "Data columns (total 6 columns):\n",
      " #   Column           Non-Null Count  Dtype  \n",
      "---  ------           --------------  -----  \n",
      " 0   days             3949 non-null   int64  \n",
      " 1   transactions     3949 non-null   int64  \n",
      " 2   units            3949 non-null   int64  \n",
      " 3   total_price      3949 non-null   float64\n",
      " 4   avg_order_value  3949 non-null   float64\n",
      " 5   CLV              3949 non-null   float64\n",
      "dtypes: float64(3), int64(3)\n",
      "memory usage: 345.0 KB\n"
     ]
    }
   ],
   "source": [
    "df_uk_group.info()"
   ]
  },
  {
   "cell_type": "code",
   "execution_count": 231,
   "id": "5493d81b",
   "metadata": {},
   "outputs": [],
   "source": [
    "cols = df_uk_group.columns.tolist()\n",
    "df_2 = df_uk_group.copy()\n",
    "df_2 = treat_outliers_all(df_2, cols)"
   ]
  },
  {
   "cell_type": "code",
   "execution_count": 232,
   "id": "00f273d1",
   "metadata": {},
   "outputs": [
    {
     "data": {
      "text/html": [
       "<div>\n",
       "<style scoped>\n",
       "    .dataframe tbody tr th:only-of-type {\n",
       "        vertical-align: middle;\n",
       "    }\n",
       "\n",
       "    .dataframe tbody tr th {\n",
       "        vertical-align: top;\n",
       "    }\n",
       "\n",
       "    .dataframe thead th {\n",
       "        text-align: right;\n",
       "    }\n",
       "</style>\n",
       "<table border=\"1\" class=\"dataframe\">\n",
       "  <thead>\n",
       "    <tr style=\"text-align: right;\">\n",
       "      <th></th>\n",
       "      <th>days</th>\n",
       "      <th>transactions</th>\n",
       "      <th>units</th>\n",
       "      <th>total_price</th>\n",
       "      <th>avg_order_value</th>\n",
       "      <th>CLV</th>\n",
       "    </tr>\n",
       "  </thead>\n",
       "  <tbody>\n",
       "    <tr>\n",
       "      <th>count</th>\n",
       "      <td>3949.000000</td>\n",
       "      <td>3949.000000</td>\n",
       "      <td>3949.000000</td>\n",
       "      <td>3949.000000</td>\n",
       "      <td>3949.000000</td>\n",
       "      <td>3949.000000</td>\n",
       "    </tr>\n",
       "    <tr>\n",
       "      <th>mean</th>\n",
       "      <td>133.838187</td>\n",
       "      <td>69.414282</td>\n",
       "      <td>661.063560</td>\n",
       "      <td>1120.723106</td>\n",
       "      <td>19.627625</td>\n",
       "      <td>93457.967341</td>\n",
       "    </tr>\n",
       "    <tr>\n",
       "      <th>std</th>\n",
       "      <td>132.935680</td>\n",
       "      <td>69.574390</td>\n",
       "      <td>675.019962</td>\n",
       "      <td>1105.740883</td>\n",
       "      <td>11.886265</td>\n",
       "      <td>56597.076011</td>\n",
       "    </tr>\n",
       "    <tr>\n",
       "      <th>min</th>\n",
       "      <td>0.000000</td>\n",
       "      <td>1.000000</td>\n",
       "      <td>1.000000</td>\n",
       "      <td>1.250000</td>\n",
       "      <td>1.250000</td>\n",
       "      <td>5951.940789</td>\n",
       "    </tr>\n",
       "    <tr>\n",
       "      <th>25%</th>\n",
       "      <td>0.000000</td>\n",
       "      <td>17.000000</td>\n",
       "      <td>154.000000</td>\n",
       "      <td>300.850000</td>\n",
       "      <td>11.175000</td>\n",
       "      <td>53210.350658</td>\n",
       "    </tr>\n",
       "    <tr>\n",
       "      <th>50%</th>\n",
       "      <td>99.000000</td>\n",
       "      <td>41.000000</td>\n",
       "      <td>365.000000</td>\n",
       "      <td>653.350000</td>\n",
       "      <td>17.204091</td>\n",
       "      <td>81918.184342</td>\n",
       "    </tr>\n",
       "    <tr>\n",
       "      <th>75%</th>\n",
       "      <td>255.000000</td>\n",
       "      <td>101.000000</td>\n",
       "      <td>955.000000</td>\n",
       "      <td>1611.590000</td>\n",
       "      <td>24.334359</td>\n",
       "      <td>115869.331012</td>\n",
       "    </tr>\n",
       "    <tr>\n",
       "      <th>max</th>\n",
       "      <td>373.000000</td>\n",
       "      <td>227.000000</td>\n",
       "      <td>2156.500000</td>\n",
       "      <td>3577.700000</td>\n",
       "      <td>44.073397</td>\n",
       "      <td>209857.801544</td>\n",
       "    </tr>\n",
       "  </tbody>\n",
       "</table>\n",
       "</div>"
      ],
      "text/plain": [
       "              days  transactions        units  total_price  avg_order_value  \\\n",
       "count  3949.000000   3949.000000  3949.000000  3949.000000      3949.000000   \n",
       "mean    133.838187     69.414282   661.063560  1120.723106        19.627625   \n",
       "std     132.935680     69.574390   675.019962  1105.740883        11.886265   \n",
       "min       0.000000      1.000000     1.000000     1.250000         1.250000   \n",
       "25%       0.000000     17.000000   154.000000   300.850000        11.175000   \n",
       "50%      99.000000     41.000000   365.000000   653.350000        17.204091   \n",
       "75%     255.000000    101.000000   955.000000  1611.590000        24.334359   \n",
       "max     373.000000    227.000000  2156.500000  3577.700000        44.073397   \n",
       "\n",
       "                 CLV  \n",
       "count    3949.000000  \n",
       "mean    93457.967341  \n",
       "std     56597.076011  \n",
       "min      5951.940789  \n",
       "25%     53210.350658  \n",
       "50%     81918.184342  \n",
       "75%    115869.331012  \n",
       "max    209857.801544  "
      ]
     },
     "execution_count": 232,
     "metadata": {},
     "output_type": "execute_result"
    }
   ],
   "source": [
    "df_2.describe()"
   ]
  },
  {
   "cell_type": "code",
   "execution_count": 233,
   "id": "ea274658",
   "metadata": {},
   "outputs": [
    {
     "data": {
      "text/plain": [
       "'days'"
      ]
     },
     "execution_count": 233,
     "metadata": {},
     "output_type": "execute_result"
    }
   ],
   "source": [
    "cols[0]"
   ]
  },
  {
   "cell_type": "code",
   "execution_count": 234,
   "id": "8b283e6e",
   "metadata": {
    "scrolled": true
   },
   "outputs": [
    {
     "data": {
      "image/png": "[encoded data removed]",
      "text/plain": [
       "<Figure size 864x432 with 2 Axes>"
      ]
     },
     "metadata": {
      "needs_background": "light"
     },
     "output_type": "display_data"
    },
    {
     "data": {
      "image/png": "[encoded data removed]",
      "text/plain": [
       "<Figure size 864x432 with 2 Axes>"
      ]
     },
     "metadata": {
      "needs_background": "light"
     },
     "output_type": "display_data"
    },
    {
     "data": {
      "image/png": "[encoded data removed]",
      "text/plain": [
       "<Figure size 864x432 with 2 Axes>"
      ]
     },
     "metadata": {
      "needs_background": "light"
     },
     "output_type": "display_data"
    },
    {
     "data": {
      "image/png": "[encoded data removed]",
      "text/plain": [
       "<Figure size 864x432 with 2 Axes>"
      ]
     },
     "metadata": {
      "needs_background": "light"
     },
     "output_type": "display_data"
    },
    {
     "data": {
      "image/png": "[encoded data removed]",
      "text/plain": [
       "<Figure size 864x432 with 2 Axes>"
      ]
     },
     "metadata": {
      "needs_background": "light"
     },
     "output_type": "display_data"
    },
    {
     "data": {
      "image/png": "[encoded data removed]",
      "text/plain": [
       "<Figure size 864x432 with 2 Axes>"
      ]
     },
     "metadata": {
      "needs_background": "light"
     },
     "output_type": "display_data"
    }
   ],
   "source": [
    "cols=df_2.columns.tolist()\n",
    "for i in np.linspace(0,5,6,dtype=int):\n",
    "#    print(i)\n",
    "    box_histo_plot(df_2,cols[i],figsize=(12,6))"
   ]
  },
  {
   "cell_type": "markdown",
   "id": "eee29b6f",
   "metadata": {},
   "source": [
    "### Bivariate Analysis"
   ]
  },
  {
   "cell_type": "code",
   "execution_count": 235,
   "id": "e7436bc3",
   "metadata": {},
   "outputs": [
    {
     "data": {
      "text/plain": [
       "days               0.038960\n",
       "transactions      -0.280491\n",
       "units              0.168470\n",
       "total_price        0.225086\n",
       "avg_order_value    1.000000\n",
       "CLV                1.000000\n",
       "Name: CLV, dtype: float64"
      ]
     },
     "execution_count": 235,
     "metadata": {},
     "output_type": "execute_result"
    }
   ],
   "source": [
    "df_2[df_2.columns[:]].corr()[\"CLV\"][:]"
   ]
  },
  {
   "cell_type": "code",
   "execution_count": 236,
   "id": "e2fe4fce",
   "metadata": {},
   "outputs": [
    {
     "data": {
      "image/png": "[encoded data removed]",
      "text/plain": [
       "<Figure size 720x360 with 2 Axes>"
      ]
     },
     "metadata": {
      "needs_background": "light"
     },
     "output_type": "display_data"
    }
   ],
   "source": [
    "numeric_columns=df_2.select_dtypes(include='number').columns.tolist()\n",
    "#numeric_columns.remove(\"price\")\n",
    "\n",
    "#correlations heatmap\n",
    "plt.figure(figsize=(10, 5))\n",
    "sns.heatmap(\n",
    "    df_2[numeric_columns].corr(),\n",
    "    annot=True,\n",
    "    vmin=-1,\n",
    "    vmax=1,\n",
    "    fmt=\".2f\",\n",
    "    cmap=\"Spectral\",\n",
    ")\n",
    "plt.show()"
   ]
  },
  {
   "cell_type": "markdown",
   "id": "58d66bda",
   "metadata": {},
   "source": [
    "## 3. Building Linear Regression Model"
   ]
  },
  {
   "cell_type": "code",
   "execution_count": 237,
   "id": "d45e5f10",
   "metadata": {},
   "outputs": [
    {
     "data": {
      "text/html": [
       "<div>\n",
       "<style scoped>\n",
       "    .dataframe tbody tr th:only-of-type {\n",
       "        vertical-align: middle;\n",
       "    }\n",
       "\n",
       "    .dataframe tbody tr th {\n",
       "        vertical-align: top;\n",
       "    }\n",
       "\n",
       "    .dataframe thead th {\n",
       "        text-align: right;\n",
       "    }\n",
       "</style>\n",
       "<table border=\"1\" class=\"dataframe\">\n",
       "  <thead>\n",
       "    <tr style=\"text-align: right;\">\n",
       "      <th></th>\n",
       "      <th>days</th>\n",
       "      <th>transactions</th>\n",
       "      <th>units</th>\n",
       "      <th>total_price</th>\n",
       "      <th>avg_order_value</th>\n",
       "      <th>CLV</th>\n",
       "    </tr>\n",
       "    <tr>\n",
       "      <th>Customer ID</th>\n",
       "      <th></th>\n",
       "      <th></th>\n",
       "      <th></th>\n",
       "      <th></th>\n",
       "      <th></th>\n",
       "      <th></th>\n",
       "    </tr>\n",
       "  </thead>\n",
       "  <tbody>\n",
       "    <tr>\n",
       "      <th>12346</th>\n",
       "      <td>0</td>\n",
       "      <td>2.0</td>\n",
       "      <td>2156.5</td>\n",
       "      <td>3577.7</td>\n",
       "      <td>44.073397</td>\n",
       "      <td>209857.801544</td>\n",
       "    </tr>\n",
       "    <tr>\n",
       "      <th>12747</th>\n",
       "      <td>366</td>\n",
       "      <td>103.0</td>\n",
       "      <td>1275.0</td>\n",
       "      <td>3577.7</td>\n",
       "      <td>40.737961</td>\n",
       "      <td>193975.946191</td>\n",
       "    </tr>\n",
       "    <tr>\n",
       "      <th>12748</th>\n",
       "      <td>372</td>\n",
       "      <td>227.0</td>\n",
       "      <td>2156.5</td>\n",
       "      <td>3577.7</td>\n",
       "      <td>8.265265</td>\n",
       "      <td>39355.494178</td>\n",
       "    </tr>\n",
       "  </tbody>\n",
       "</table>\n",
       "</div>"
      ],
      "text/plain": [
       "             days  transactions   units  total_price  avg_order_value  \\\n",
       "Customer ID                                                             \n",
       "12346           0           2.0  2156.5       3577.7        44.073397   \n",
       "12747         366         103.0  1275.0       3577.7        40.737961   \n",
       "12748         372         227.0  2156.5       3577.7         8.265265   \n",
       "\n",
       "                       CLV  \n",
       "Customer ID                 \n",
       "12346        209857.801544  \n",
       "12747        193975.946191  \n",
       "12748         39355.494178  "
      ]
     },
     "execution_count": 237,
     "metadata": {},
     "output_type": "execute_result"
    }
   ],
   "source": [
    "df_2.head(3)"
   ]
  },
  {
   "cell_type": "code",
   "execution_count": 238,
   "id": "2b379333",
   "metadata": {},
   "outputs": [],
   "source": [
    "features = df_2.columns.tolist()[0:5]\n",
    "x = df_2[features]\n",
    "y = df_2['CLV']"
   ]
  },
  {
   "cell_type": "markdown",
   "id": "e9cbc775",
   "metadata": {},
   "source": [
    "#### 3.1 Splitting Data"
   ]
  },
  {
   "cell_type": "code",
   "execution_count": 239,
   "id": "9797b73c",
   "metadata": {},
   "outputs": [],
   "source": [
    "from sklearn.model_selection import train_test_split\n",
    "X_train, X_test, y_train, y_test = train_test_split(x, y, random_state = 0) #random_state, don't mix the data, mantain the order\n",
    "\n",
    "# to check model performance\n",
    "from sklearn.metrics import mean_absolute_error, mean_squared_error, r2_score"
   ]
  },
  {
   "cell_type": "code",
   "execution_count": 240,
   "id": "9057fddb",
   "metadata": {},
   "outputs": [
    {
     "data": {
      "text/html": [
       "<div>\n",
       "<style scoped>\n",
       "    .dataframe tbody tr th:only-of-type {\n",
       "        vertical-align: middle;\n",
       "    }\n",
       "\n",
       "    .dataframe tbody tr th {\n",
       "        vertical-align: top;\n",
       "    }\n",
       "\n",
       "    .dataframe thead th {\n",
       "        text-align: right;\n",
       "    }\n",
       "</style>\n",
       "<table border=\"1\" class=\"dataframe\">\n",
       "  <thead>\n",
       "    <tr style=\"text-align: right;\">\n",
       "      <th></th>\n",
       "      <th>days</th>\n",
       "      <th>transactions</th>\n",
       "      <th>units</th>\n",
       "      <th>total_price</th>\n",
       "      <th>avg_order_value</th>\n",
       "    </tr>\n",
       "    <tr>\n",
       "      <th>Customer ID</th>\n",
       "      <th></th>\n",
       "      <th></th>\n",
       "      <th></th>\n",
       "      <th></th>\n",
       "      <th></th>\n",
       "    </tr>\n",
       "  </thead>\n",
       "  <tbody>\n",
       "    <tr>\n",
       "      <th>17297</th>\n",
       "      <td>0</td>\n",
       "      <td>51.0</td>\n",
       "      <td>67.0</td>\n",
       "      <td>131.78</td>\n",
       "      <td>2.583922</td>\n",
       "    </tr>\n",
       "    <tr>\n",
       "      <th>16654</th>\n",
       "      <td>227</td>\n",
       "      <td>31.0</td>\n",
       "      <td>284.0</td>\n",
       "      <td>607.57</td>\n",
       "      <td>19.599032</td>\n",
       "    </tr>\n",
       "    <tr>\n",
       "      <th>13848</th>\n",
       "      <td>273</td>\n",
       "      <td>5.0</td>\n",
       "      <td>2156.5</td>\n",
       "      <td>1255.00</td>\n",
       "      <td>44.073397</td>\n",
       "    </tr>\n",
       "  </tbody>\n",
       "</table>\n",
       "</div>"
      ],
      "text/plain": [
       "             days  transactions   units  total_price  avg_order_value\n",
       "Customer ID                                                          \n",
       "17297           0          51.0    67.0       131.78         2.583922\n",
       "16654         227          31.0   284.0       607.57        19.599032\n",
       "13848         273           5.0  2156.5      1255.00        44.073397"
      ]
     },
     "execution_count": 240,
     "metadata": {},
     "output_type": "execute_result"
    }
   ],
   "source": [
    "X_train.head(3)"
   ]
  },
  {
   "cell_type": "code",
   "execution_count": 241,
   "id": "1f1beeb1",
   "metadata": {},
   "outputs": [
    {
     "data": {
      "text/plain": [
       "Customer ID\n",
       "17297     12303.478545\n",
       "16654     93321.823625\n",
       "13848    209857.801544\n",
       "Name: CLV, dtype: float64"
      ]
     },
     "execution_count": 241,
     "metadata": {},
     "output_type": "execute_result"
    }
   ],
   "source": [
    "y_train.head(3)"
   ]
  },
  {
   "cell_type": "code",
   "execution_count": 242,
   "id": "ef71cb7c",
   "metadata": {},
   "outputs": [],
   "source": [
    "olsmodel = sm.OLS(y_train, X_train).fit()"
   ]
  },
  {
   "cell_type": "code",
   "execution_count": 243,
   "id": "b0171c4e",
   "metadata": {},
   "outputs": [
    {
     "name": "stdout",
     "output_type": "stream",
     "text": [
      "                                 OLS Regression Results                                \n",
      "=======================================================================================\n",
      "Dep. Variable:                    CLV   R-squared (uncentered):                   1.000\n",
      "Model:                            OLS   Adj. R-squared (uncentered):              1.000\n",
      "Method:                 Least Squares   F-statistic:                          1.318e+33\n",
      "Date:                Mon, 26 Feb 2024   Prob (F-statistic):                        0.00\n",
      "Time:                        12:38:47   Log-Likelihood:                          64885.\n",
      "No. Observations:                2961   AIC:                                 -1.298e+05\n",
      "Df Residuals:                    2956   BIC:                                 -1.297e+05\n",
      "Df Model:                           5                                                  \n",
      "Covariance Type:            nonrobust                                                  \n",
      "===================================================================================\n",
      "                      coef    std err          t      P>|t|      [0.025      0.975]\n",
      "-----------------------------------------------------------------------------------\n",
      "days            -2.842e-14   1.38e-14     -2.055      0.040   -5.55e-14    -1.3e-15\n",
      "transactions     9.237e-14   3.31e-14      2.792      0.005    2.75e-14    1.57e-13\n",
      "units            8.171e-14   5.49e-15     14.886      0.000    7.09e-14    9.25e-14\n",
      "total_price     -5.107e-14   3.74e-15    -13.640      0.000   -5.84e-14   -4.37e-14\n",
      "avg_order_value  4761.5526   8.82e-14    5.4e+16      0.000    4761.553    4761.553\n",
      "==============================================================================\n",
      "Omnibus:                      207.782   Durbin-Watson:                   0.701\n",
      "Prob(Omnibus):                  0.000   Jarque-Bera (JB):              270.164\n",
      "Skew:                           0.629   Prob(JB):                     2.16e-59\n",
      "Kurtosis:                       3.780   Cond. No.                         120.\n",
      "==============================================================================\n",
      "\n",
      "Notes:\n",
      "[1] R² is computed without centering (uncentered) since the model does not contain a constant.\n",
      "[2] Standard Errors assume that the covariance matrix of the errors is correctly specified.\n"
     ]
    }
   ],
   "source": [
    "print(olsmodel.summary())"
   ]
  },
  {
   "cell_type": "code",
   "execution_count": 244,
   "id": "0375f145",
   "metadata": {},
   "outputs": [
    {
     "name": "stdout",
     "output_type": "stream",
     "text": [
      "Prediction Perfomance on Train Set:\n",
      "MAE 0.000\n",
      "MSE 0.000\n",
      "RMSE 0.000\n",
      "R2-Square: 1.000\n"
     ]
    }
   ],
   "source": [
    "ypred = olsmodel.predict(X_train)\n",
    "\n",
    "MAE = mean_absolute_error(y_train, ypred)\n",
    "MSE = mean_squared_error(y_train, ypred)\n",
    "RMSE = np.sqrt(mean_squared_error(y_train, ypred))\n",
    "R2_score = r2_score(y_train, ypred)\n",
    "\n",
    "print(\"Prediction Perfomance on Train Set:\")\n",
    "print(\"MAE\", \"{:.3f}\".format(MAE))\n",
    "print(\"MSE\", \"{:.3f}\".format(MSE))\n",
    "print(\"RMSE\", \"{:.3f}\".format(RMSE))\n",
    "print(\"R2-Square:\",\"{:.3f}\".format(R2_score))"
   ]
  },
  {
   "cell_type": "code",
   "execution_count": 245,
   "id": "34ef146a",
   "metadata": {},
   "outputs": [
    {
     "name": "stdout",
     "output_type": "stream",
     "text": [
      "Prediction Perfomance on Test Set:\n",
      "MAE 0.000\n",
      "MSE 0.000\n",
      "RMSE 0.000\n",
      "R2-Square: 1.000\n"
     ]
    }
   ],
   "source": [
    "ypred = olsmodel.predict(X_test)\n",
    "\n",
    "MAE = mean_absolute_error(y_test, ypred)\n",
    "MSE = mean_squared_error(y_test, ypred)\n",
    "RMSE = np.sqrt(mean_squared_error(y_test, ypred))\n",
    "R2_score = r2_score(y_test, ypred)\n",
    "\n",
    "print(\"Prediction Perfomance on Test Set:\")\n",
    "print(\"MAE\", \"{:.3f}\".format(MAE))\n",
    "print(\"MSE\", \"{:.3f}\".format(MSE))\n",
    "print(\"RMSE\", \"{:.3f}\".format(RMSE))\n",
    "print(\"R2-Square:\",\"{:.3f}\".format(R2_score))"
   ]
  },
  {
   "cell_type": "markdown",
   "id": "e32bd868",
   "metadata": {},
   "source": [
    "### 3.2 Using the model in test set"
   ]
  },
  {
   "cell_type": "code",
   "execution_count": 246,
   "id": "72907c1b",
   "metadata": {},
   "outputs": [
    {
     "data": {
      "text/html": [
       "<div>\n",
       "<style scoped>\n",
       "    .dataframe tbody tr th:only-of-type {\n",
       "        vertical-align: middle;\n",
       "    }\n",
       "\n",
       "    .dataframe tbody tr th {\n",
       "        vertical-align: top;\n",
       "    }\n",
       "\n",
       "    .dataframe thead th {\n",
       "        text-align: right;\n",
       "    }\n",
       "</style>\n",
       "<table border=\"1\" class=\"dataframe\">\n",
       "  <thead>\n",
       "    <tr style=\"text-align: right;\">\n",
       "      <th></th>\n",
       "      <th>days</th>\n",
       "      <th>transactions</th>\n",
       "      <th>units</th>\n",
       "      <th>total_price</th>\n",
       "      <th>avg_order_value</th>\n",
       "    </tr>\n",
       "    <tr>\n",
       "      <th>Customer ID</th>\n",
       "      <th></th>\n",
       "      <th></th>\n",
       "      <th></th>\n",
       "      <th></th>\n",
       "      <th></th>\n",
       "    </tr>\n",
       "  </thead>\n",
       "  <tbody>\n",
       "    <tr>\n",
       "      <th>17153</th>\n",
       "      <td>0</td>\n",
       "      <td>14.0</td>\n",
       "      <td>104.0</td>\n",
       "      <td>213.78</td>\n",
       "      <td>15.270000</td>\n",
       "    </tr>\n",
       "    <tr>\n",
       "      <th>16057</th>\n",
       "      <td>280</td>\n",
       "      <td>134.0</td>\n",
       "      <td>893.0</td>\n",
       "      <td>2386.02</td>\n",
       "      <td>17.806119</td>\n",
       "    </tr>\n",
       "    <tr>\n",
       "      <th>15599</th>\n",
       "      <td>177</td>\n",
       "      <td>52.0</td>\n",
       "      <td>718.0</td>\n",
       "      <td>761.74</td>\n",
       "      <td>14.648846</td>\n",
       "    </tr>\n",
       "    <tr>\n",
       "      <th>15353</th>\n",
       "      <td>113</td>\n",
       "      <td>63.0</td>\n",
       "      <td>343.0</td>\n",
       "      <td>777.02</td>\n",
       "      <td>12.333651</td>\n",
       "    </tr>\n",
       "    <tr>\n",
       "      <th>18205</th>\n",
       "      <td>38</td>\n",
       "      <td>32.0</td>\n",
       "      <td>192.0</td>\n",
       "      <td>517.36</td>\n",
       "      <td>16.167500</td>\n",
       "    </tr>\n",
       "  </tbody>\n",
       "</table>\n",
       "</div>"
      ],
      "text/plain": [
       "             days  transactions  units  total_price  avg_order_value\n",
       "Customer ID                                                         \n",
       "17153           0          14.0  104.0       213.78        15.270000\n",
       "16057         280         134.0  893.0      2386.02        17.806119\n",
       "15599         177          52.0  718.0       761.74        14.648846\n",
       "15353         113          63.0  343.0       777.02        12.333651\n",
       "18205          38          32.0  192.0       517.36        16.167500"
      ]
     },
     "execution_count": 246,
     "metadata": {},
     "output_type": "execute_result"
    }
   ],
   "source": [
    "X_test.tail(5)"
   ]
  },
  {
   "cell_type": "code",
   "execution_count": 247,
   "id": "c5306c78",
   "metadata": {},
   "outputs": [
    {
     "data": {
      "text/plain": [
       "Customer ID\n",
       "17153    72708.908684\n",
       "16057    84784.774701\n",
       "15599    69751.251953\n",
       "15353    58727.327393\n",
       "18205    76982.402171\n",
       "Name: CLV, dtype: float64"
      ]
     },
     "execution_count": 247,
     "metadata": {},
     "output_type": "execute_result"
    }
   ],
   "source": [
    "y_test.tail(5)"
   ]
  },
  {
   "cell_type": "code",
   "execution_count": 248,
   "id": "c44ceb5a",
   "metadata": {},
   "outputs": [
    {
     "data": {
      "text/html": [
       "<div>\n",
       "<style scoped>\n",
       "    .dataframe tbody tr th:only-of-type {\n",
       "        vertical-align: middle;\n",
       "    }\n",
       "\n",
       "    .dataframe tbody tr th {\n",
       "        vertical-align: top;\n",
       "    }\n",
       "\n",
       "    .dataframe thead th {\n",
       "        text-align: right;\n",
       "    }\n",
       "</style>\n",
       "<table border=\"1\" class=\"dataframe\">\n",
       "  <thead>\n",
       "    <tr style=\"text-align: right;\">\n",
       "      <th></th>\n",
       "      <th>days</th>\n",
       "      <th>transactions</th>\n",
       "      <th>units</th>\n",
       "      <th>total_price</th>\n",
       "      <th>avg_order_value</th>\n",
       "    </tr>\n",
       "    <tr>\n",
       "      <th>Customer ID</th>\n",
       "      <th></th>\n",
       "      <th></th>\n",
       "      <th></th>\n",
       "      <th></th>\n",
       "      <th></th>\n",
       "    </tr>\n",
       "  </thead>\n",
       "  <tbody>\n",
       "    <tr>\n",
       "      <th>15599</th>\n",
       "      <td>177</td>\n",
       "      <td>52.0</td>\n",
       "      <td>718.0</td>\n",
       "      <td>761.74</td>\n",
       "      <td>14.648846</td>\n",
       "    </tr>\n",
       "  </tbody>\n",
       "</table>\n",
       "</div>"
      ],
      "text/plain": [
       "             days  transactions  units  total_price  avg_order_value\n",
       "Customer ID                                                         \n",
       "15599         177          52.0  718.0       761.74        14.648846"
      ]
     },
     "execution_count": 248,
     "metadata": {},
     "output_type": "execute_result"
    }
   ],
   "source": [
    "X_test.iloc[-3:-2]"
   ]
  },
  {
   "cell_type": "code",
   "execution_count": 249,
   "id": "9121b46a",
   "metadata": {},
   "outputs": [],
   "source": [
    "ypred = olsmodel.predict(X_test.iloc[-3:-2])"
   ]
  },
  {
   "cell_type": "code",
   "execution_count": 250,
   "id": "1d5003c4",
   "metadata": {},
   "outputs": [
    {
     "data": {
      "text/plain": [
       "Customer ID\n",
       "15599    69751.251953\n",
       "dtype: float64"
      ]
     },
     "execution_count": 250,
     "metadata": {},
     "output_type": "execute_result"
    }
   ],
   "source": [
    "ypred"
   ]
  },
  {
   "cell_type": "markdown",
   "id": "d9d72584",
   "metadata": {},
   "source": [
    "### Plotting the regression linear model"
   ]
  },
  {
   "cell_type": "code",
   "execution_count": 251,
   "id": "0d7b60ee",
   "metadata": {},
   "outputs": [],
   "source": [
    "ypred = olsmodel.predict(X_test)"
   ]
  },
  {
   "cell_type": "code",
   "execution_count": 252,
   "id": "2522d098",
   "metadata": {},
   "outputs": [
    {
     "data": {
      "text/plain": [
       "Text(0, 0.5, 'CLV')"
      ]
     },
     "execution_count": 252,
     "metadata": {},
     "output_type": "execute_result"
    },
    {
     "data": {
      "image/png": "[encoded data removed]",
      "text/plain": [
       "<Figure size 432x288 with 1 Axes>"
      ]
     },
     "metadata": {
      "needs_background": "light"
     },
     "output_type": "display_data"
    }
   ],
   "source": [
    "plt.scatter(X_test['avg_order_value'].tolist(), ypred, color=\"blue\")\n",
    "\n",
    "plt.xlabel(\"avg_order_value\")\n",
    "plt.ylabel(\"CLV\")"
   ]
  },
  {
   "cell_type": "markdown",
   "id": "7daff11f",
   "metadata": {},
   "source": [
    "#### Observations:\n",
    "* We have a highly precise regression linear model, given that the metrics are perfect there is no a percentage or error in the predictions, so it was able to predict either in train and test set\n",
    "* By imputing the outliers we have gotten a perfect regression model\n",
    "* In this graph we can see that, the more people buy huge quantity of items, the more value is added to the company"
   ]
  }
 ],
 "metadata": {
  "kernelspec": {
   "display_name": "Python 3 (ipykernel)",
   "language": "python",
   "name": "python3"
  },
  "language_info": {
   "codemirror_mode": {
    "name": "ipython",
    "version": 3
   },
   "file_extension": ".py",
   "mimetype": "text/x-python",
   "name": "python",
   "nbconvert_exporter": "python",
   "pygments_lexer": "ipython3",
   "version": "3.9.7"
  }
 },
 "nbformat": 4,
 "nbformat_minor": 5
}
